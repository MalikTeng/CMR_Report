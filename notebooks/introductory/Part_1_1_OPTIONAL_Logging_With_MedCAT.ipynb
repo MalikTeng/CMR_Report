{
  "cells": [
    {
      "cell_type": "markdown",
      "metadata": {
        "id": "OdBNdTHIhk_S"
      },
      "source": [
        "# MedCAT tutorial - logging with MedCAT\n",
        "How MedCAT handles logging has changed somewhat as of recently.\n",
        "The idea is that MedCAT as a library attempts to interfere as little as possible with its users choice of what, how and where to log information.\n",
        "\n",
        "The current startegy is 'opt in'. Which means that by default, all logging is disabled by MedCAT. However, we've added a shorthand for adding some handlers for console as well as _medcat.log_ logging. And on top of that, it is pretty simple for the user to change the logging behaviour of different parts of the project separately. We will go over that in small examples below."
      ]
    },
    {
      "cell_type": "code",
      "execution_count": 1,
      "metadata": {
        "id": "DMAYapu6hk_U",
        "outputId": "e069fa20-6fcb-4d98-c42c-9138bc824037",
        "colab": {
          "base_uri": "https://localhost:8080/"
        }
      },
      "outputs": [
        {
          "metadata": {
            "tags": null
          },
          "name": "stdout",
          "output_type": "stream",
          "text": [
            "Requirement already satisfied: medcat~=1.14.0 in /usr/local/lib/python3.11/dist-packages (1.14.1)\n",
            "Requirement already satisfied: numpy<1.26.0,>=1.22.0 in /usr/local/lib/python3.11/dist-packages (from medcat~=1.14.0) (1.25.2)\n",
            "Requirement already satisfied: pandas>=1.4.2 in /usr/local/lib/python3.11/dist-packages (from medcat~=1.14.0) (2.2.2)\n",
            "Requirement already satisfied: gensim<5.0.0,>=4.3.0 in /usr/local/lib/python3.11/dist-packages (from medcat~=1.14.0) (4.3.3)\n",
            "Requirement already satisfied: spacy<3.8.0,>=3.6.0 in /usr/local/lib/python3.11/dist-packages (from medcat~=1.14.0) (3.7.5)\n",
            "Requirement already satisfied: scipy~=1.9.2 in /usr/local/lib/python3.11/dist-packages (from medcat~=1.14.0) (1.9.3)\n",
            "Requirement already satisfied: transformers<5.0.0,>=4.34.0 in /usr/local/lib/python3.11/dist-packages (from medcat~=1.14.0) (4.48.3)\n",
            "Requirement already satisfied: accelerate>=0.23.0 in /usr/local/lib/python3.11/dist-packages (from medcat~=1.14.0) (1.3.0)\n",
            "Requirement already satisfied: torch<3.0.0,>=1.13.0 in /usr/local/lib/python3.11/dist-packages (from medcat~=1.14.0) (2.5.1+cu124)\n",
            "Requirement already satisfied: tqdm>=4.27 in /usr/local/lib/python3.11/dist-packages (from medcat~=1.14.0) (4.67.1)\n",
            "Requirement already satisfied: scikit-learn<2.0.0,>=1.1.3 in /usr/local/lib/python3.11/dist-packages (from medcat~=1.14.0) (1.6.1)\n",
            "Requirement already satisfied: dill<1.0.0,>=0.3.6 in /usr/local/lib/python3.11/dist-packages (from medcat~=1.14.0) (0.3.8)\n",
            "Requirement already satisfied: datasets<3.0.0,>=2.2.2 in /usr/local/lib/python3.11/dist-packages (from medcat~=1.14.0) (2.21.0)\n",
            "Requirement already satisfied: jsonpickle>=2.0.0 in /usr/local/lib/python3.11/dist-packages (from medcat~=1.14.0) (4.0.2)\n",
            "Requirement already satisfied: psutil>=5.8.0 in /usr/local/lib/python3.11/dist-packages (from medcat~=1.14.0) (5.9.5)\n",
            "Requirement already satisfied: multiprocess~=0.70.12 in /usr/local/lib/python3.11/dist-packages (from medcat~=1.14.0) (0.70.16)\n",
            "Requirement already satisfied: aiofiles>=0.8.0 in /usr/local/lib/python3.11/dist-packages (from medcat~=1.14.0) (24.1.0)\n",
            "Requirement already satisfied: ipywidgets>=7.6.5 in /usr/local/lib/python3.11/dist-packages (from medcat~=1.14.0) (7.7.1)\n",
            "Requirement already satisfied: xxhash>=3.0.0 in /usr/local/lib/python3.11/dist-packages (from medcat~=1.14.0) (3.5.0)\n",
            "Requirement already satisfied: blis<1.0.0,>=0.7.5 in /usr/local/lib/python3.11/dist-packages (from medcat~=1.14.0) (0.7.11)\n",
            "Requirement already satisfied: click>=8.0.4 in /usr/local/lib/python3.11/dist-packages (from medcat~=1.14.0) (8.1.8)\n",
            "Requirement already satisfied: pydantic<2.0,>=1.10.0 in /usr/local/lib/python3.11/dist-packages (from medcat~=1.14.0) (1.10.21)\n",
            "Requirement already satisfied: humanfriendly~=10.0 in /usr/local/lib/python3.11/dist-packages (from medcat~=1.14.0) (10.0)\n",
            "Requirement already satisfied: peft>=0.8.2 in /usr/local/lib/python3.11/dist-packages (from medcat~=1.14.0) (0.14.0)\n",
            "Requirement already satisfied: packaging>=20.0 in /usr/local/lib/python3.11/dist-packages (from accelerate>=0.23.0->medcat~=1.14.0) (24.2)\n",
            "Requirement already satisfied: pyyaml in /usr/local/lib/python3.11/dist-packages (from accelerate>=0.23.0->medcat~=1.14.0) (6.0.2)\n",
            "Requirement already satisfied: huggingface-hub>=0.21.0 in /usr/local/lib/python3.11/dist-packages (from accelerate>=0.23.0->medcat~=1.14.0) (0.28.1)\n",
            "Requirement already satisfied: safetensors>=0.4.3 in /usr/local/lib/python3.11/dist-packages (from accelerate>=0.23.0->medcat~=1.14.0) (0.5.3)\n",
            "Requirement already satisfied: filelock in /usr/local/lib/python3.11/dist-packages (from datasets<3.0.0,>=2.2.2->medcat~=1.14.0) (3.17.0)\n",
            "Requirement already satisfied: pyarrow>=15.0.0 in /usr/local/lib/python3.11/dist-packages (from datasets<3.0.0,>=2.2.2->medcat~=1.14.0) (18.1.0)\n",
            "Requirement already satisfied: requests>=2.32.2 in /usr/local/lib/python3.11/dist-packages (from datasets<3.0.0,>=2.2.2->medcat~=1.14.0) (2.32.3)\n",
            "Requirement already satisfied: fsspec<=2024.6.1,>=2023.1.0 in /usr/local/lib/python3.11/dist-packages (from fsspec[http]<=2024.6.1,>=2023.1.0->datasets<3.0.0,>=2.2.2->medcat~=1.14.0) (2024.6.1)\n",
            "Requirement already satisfied: aiohttp in /usr/local/lib/python3.11/dist-packages (from datasets<3.0.0,>=2.2.2->medcat~=1.14.0) (3.11.13)\n",
            "Requirement already satisfied: smart-open>=1.8.1 in /usr/local/lib/python3.11/dist-packages (from gensim<5.0.0,>=4.3.0->medcat~=1.14.0) (7.1.0)\n",
            "Requirement already satisfied: ipykernel>=4.5.1 in /usr/local/lib/python3.11/dist-packages (from ipywidgets>=7.6.5->medcat~=1.14.0) (6.17.1)\n",
            "Requirement already satisfied: ipython-genutils~=0.2.0 in /usr/local/lib/python3.11/dist-packages (from ipywidgets>=7.6.5->medcat~=1.14.0) (0.2.0)\n",
            "Requirement already satisfied: traitlets>=4.3.1 in /usr/local/lib/python3.11/dist-packages (from ipywidgets>=7.6.5->medcat~=1.14.0) (5.7.1)\n",
            "Requirement already satisfied: widgetsnbextension~=3.6.0 in /usr/local/lib/python3.11/dist-packages (from ipywidgets>=7.6.5->medcat~=1.14.0) (3.6.10)\n",
            "Requirement already satisfied: ipython>=4.0.0 in /usr/local/lib/python3.11/dist-packages (from ipywidgets>=7.6.5->medcat~=1.14.0) (7.34.0)\n",
            "Requirement already satisfied: jupyterlab-widgets>=1.0.0 in /usr/local/lib/python3.11/dist-packages (from ipywidgets>=7.6.5->medcat~=1.14.0) (3.0.13)\n",
            "Requirement already satisfied: python-dateutil>=2.8.2 in /usr/local/lib/python3.11/dist-packages (from pandas>=1.4.2->medcat~=1.14.0) (2.8.2)\n",
            "Requirement already satisfied: pytz>=2020.1 in /usr/local/lib/python3.11/dist-packages (from pandas>=1.4.2->medcat~=1.14.0) (2025.1)\n",
            "Requirement already satisfied: tzdata>=2022.7 in /usr/local/lib/python3.11/dist-packages (from pandas>=1.4.2->medcat~=1.14.0) (2025.1)\n",
            "Requirement already satisfied: typing-extensions>=4.2.0 in /usr/local/lib/python3.11/dist-packages (from pydantic<2.0,>=1.10.0->medcat~=1.14.0) (4.12.2)\n",
            "Requirement already satisfied: joblib>=1.2.0 in /usr/local/lib/python3.11/dist-packages (from scikit-learn<2.0.0,>=1.1.3->medcat~=1.14.0) (1.4.2)\n",
            "Requirement already satisfied: threadpoolctl>=3.1.0 in /usr/local/lib/python3.11/dist-packages (from scikit-learn<2.0.0,>=1.1.3->medcat~=1.14.0) (3.5.0)\n",
            "Requirement already satisfied: spacy-legacy<3.1.0,>=3.0.11 in /usr/local/lib/python3.11/dist-packages (from spacy<3.8.0,>=3.6.0->medcat~=1.14.0) (3.0.12)\n",
            "Requirement already satisfied: spacy-loggers<2.0.0,>=1.0.0 in /usr/local/lib/python3.11/dist-packages (from spacy<3.8.0,>=3.6.0->medcat~=1.14.0) (1.0.5)\n",
            "Requirement already satisfied: murmurhash<1.1.0,>=0.28.0 in /usr/local/lib/python3.11/dist-packages (from spacy<3.8.0,>=3.6.0->medcat~=1.14.0) (1.0.12)\n",
            "Requirement already satisfied: cymem<2.1.0,>=2.0.2 in /usr/local/lib/python3.11/dist-packages (from spacy<3.8.0,>=3.6.0->medcat~=1.14.0) (2.0.11)\n",
            "Requirement already satisfied: preshed<3.1.0,>=3.0.2 in /usr/local/lib/python3.11/dist-packages (from spacy<3.8.0,>=3.6.0->medcat~=1.14.0) (3.0.9)\n",
            "Requirement already satisfied: thinc<8.3.0,>=8.2.2 in /usr/local/lib/python3.11/dist-packages (from spacy<3.8.0,>=3.6.0->medcat~=1.14.0) (8.2.5)\n",
            "Requirement already satisfied: wasabi<1.2.0,>=0.9.1 in /usr/local/lib/python3.11/dist-packages (from spacy<3.8.0,>=3.6.0->medcat~=1.14.0) (1.1.3)\n",
            "Requirement already satisfied: srsly<3.0.0,>=2.4.3 in /usr/local/lib/python3.11/dist-packages (from spacy<3.8.0,>=3.6.0->medcat~=1.14.0) (2.5.1)\n",
            "Requirement already satisfied: catalogue<2.1.0,>=2.0.6 in /usr/local/lib/python3.11/dist-packages (from spacy<3.8.0,>=3.6.0->medcat~=1.14.0) (2.0.10)\n",
            "Requirement already satisfied: weasel<0.5.0,>=0.1.0 in /usr/local/lib/python3.11/dist-packages (from spacy<3.8.0,>=3.6.0->medcat~=1.14.0) (0.4.1)\n",
            "Requirement already satisfied: typer<1.0.0,>=0.3.0 in /usr/local/lib/python3.11/dist-packages (from spacy<3.8.0,>=3.6.0->medcat~=1.14.0) (0.15.1)\n",
            "Requirement already satisfied: jinja2 in /usr/local/lib/python3.11/dist-packages (from spacy<3.8.0,>=3.6.0->medcat~=1.14.0) (3.1.5)\n",
            "Requirement already satisfied: setuptools in /usr/local/lib/python3.11/dist-packages (from spacy<3.8.0,>=3.6.0->medcat~=1.14.0) (75.1.0)\n",
            "Requirement already satisfied: langcodes<4.0.0,>=3.2.0 in /usr/local/lib/python3.11/dist-packages (from spacy<3.8.0,>=3.6.0->medcat~=1.14.0) (3.5.0)\n",
            "Requirement already satisfied: networkx in /usr/local/lib/python3.11/dist-packages (from torch<3.0.0,>=1.13.0->medcat~=1.14.0) (3.4.2)\n",
            "Requirement already satisfied: nvidia-cuda-nvrtc-cu12==12.4.127 in /usr/local/lib/python3.11/dist-packages (from torch<3.0.0,>=1.13.0->medcat~=1.14.0) (12.4.127)\n",
            "Requirement already satisfied: nvidia-cuda-runtime-cu12==12.4.127 in /usr/local/lib/python3.11/dist-packages (from torch<3.0.0,>=1.13.0->medcat~=1.14.0) (12.4.127)\n",
            "Requirement already satisfied: nvidia-cuda-cupti-cu12==12.4.127 in /usr/local/lib/python3.11/dist-packages (from torch<3.0.0,>=1.13.0->medcat~=1.14.0) (12.4.127)\n",
            "Requirement already satisfied: nvidia-cudnn-cu12==9.1.0.70 in /usr/local/lib/python3.11/dist-packages (from torch<3.0.0,>=1.13.0->medcat~=1.14.0) (9.1.0.70)\n",
            "Requirement already satisfied: nvidia-cublas-cu12==12.4.5.8 in /usr/local/lib/python3.11/dist-packages (from torch<3.0.0,>=1.13.0->medcat~=1.14.0) (12.4.5.8)\n",
            "Requirement already satisfied: nvidia-cufft-cu12==11.2.1.3 in /usr/local/lib/python3.11/dist-packages (from torch<3.0.0,>=1.13.0->medcat~=1.14.0) (11.2.1.3)\n",
            "Requirement already satisfied: nvidia-curand-cu12==10.3.5.147 in /usr/local/lib/python3.11/dist-packages (from torch<3.0.0,>=1.13.0->medcat~=1.14.0) (10.3.5.147)\n",
            "Requirement already satisfied: nvidia-cusolver-cu12==11.6.1.9 in /usr/local/lib/python3.11/dist-packages (from torch<3.0.0,>=1.13.0->medcat~=1.14.0) (11.6.1.9)\n",
            "Requirement already satisfied: nvidia-cusparse-cu12==12.3.1.170 in /usr/local/lib/python3.11/dist-packages (from torch<3.0.0,>=1.13.0->medcat~=1.14.0) (12.3.1.170)\n",
            "Requirement already satisfied: nvidia-nccl-cu12==2.21.5 in /usr/local/lib/python3.11/dist-packages (from torch<3.0.0,>=1.13.0->medcat~=1.14.0) (2.21.5)\n",
            "Requirement already satisfied: nvidia-nvtx-cu12==12.4.127 in /usr/local/lib/python3.11/dist-packages (from torch<3.0.0,>=1.13.0->medcat~=1.14.0) (12.4.127)\n",
            "Requirement already satisfied: nvidia-nvjitlink-cu12==12.4.127 in /usr/local/lib/python3.11/dist-packages (from torch<3.0.0,>=1.13.0->medcat~=1.14.0) (12.4.127)\n",
            "Requirement already satisfied: triton==3.1.0 in /usr/local/lib/python3.11/dist-packages (from torch<3.0.0,>=1.13.0->medcat~=1.14.0) (3.1.0)\n",
            "Requirement already satisfied: sympy==1.13.1 in /usr/local/lib/python3.11/dist-packages (from torch<3.0.0,>=1.13.0->medcat~=1.14.0) (1.13.1)\n",
            "Requirement already satisfied: mpmath<1.4,>=1.1.0 in /usr/local/lib/python3.11/dist-packages (from sympy==1.13.1->torch<3.0.0,>=1.13.0->medcat~=1.14.0) (1.3.0)\n",
            "Requirement already satisfied: regex!=2019.12.17 in /usr/local/lib/python3.11/dist-packages (from transformers<5.0.0,>=4.34.0->medcat~=1.14.0) (2024.11.6)\n",
            "Requirement already satisfied: tokenizers<0.22,>=0.21 in /usr/local/lib/python3.11/dist-packages (from transformers<5.0.0,>=4.34.0->medcat~=1.14.0) (0.21.0)\n",
            "Requirement already satisfied: aiohappyeyeballs>=2.3.0 in /usr/local/lib/python3.11/dist-packages (from aiohttp->datasets<3.0.0,>=2.2.2->medcat~=1.14.0) (2.4.6)\n",
            "Requirement already satisfied: aiosignal>=1.1.2 in /usr/local/lib/python3.11/dist-packages (from aiohttp->datasets<3.0.0,>=2.2.2->medcat~=1.14.0) (1.3.2)\n",
            "Requirement already satisfied: attrs>=17.3.0 in /usr/local/lib/python3.11/dist-packages (from aiohttp->datasets<3.0.0,>=2.2.2->medcat~=1.14.0) (25.1.0)\n",
            "Requirement already satisfied: frozenlist>=1.1.1 in /usr/local/lib/python3.11/dist-packages (from aiohttp->datasets<3.0.0,>=2.2.2->medcat~=1.14.0) (1.5.0)\n",
            "Requirement already satisfied: multidict<7.0,>=4.5 in /usr/local/lib/python3.11/dist-packages (from aiohttp->datasets<3.0.0,>=2.2.2->medcat~=1.14.0) (6.1.0)\n",
            "Requirement already satisfied: propcache>=0.2.0 in /usr/local/lib/python3.11/dist-packages (from aiohttp->datasets<3.0.0,>=2.2.2->medcat~=1.14.0) (0.3.0)\n",
            "Requirement already satisfied: yarl<2.0,>=1.17.0 in /usr/local/lib/python3.11/dist-packages (from aiohttp->datasets<3.0.0,>=2.2.2->medcat~=1.14.0) (1.18.3)\n",
            "Requirement already satisfied: debugpy>=1.0 in /usr/local/lib/python3.11/dist-packages (from ipykernel>=4.5.1->ipywidgets>=7.6.5->medcat~=1.14.0) (1.8.0)\n",
            "Requirement already satisfied: jupyter-client>=6.1.12 in /usr/local/lib/python3.11/dist-packages (from ipykernel>=4.5.1->ipywidgets>=7.6.5->medcat~=1.14.0) (6.1.12)\n",
            "Requirement already satisfied: matplotlib-inline>=0.1 in /usr/local/lib/python3.11/dist-packages (from ipykernel>=4.5.1->ipywidgets>=7.6.5->medcat~=1.14.0) (0.1.7)\n",
            "Requirement already satisfied: nest-asyncio in /usr/local/lib/python3.11/dist-packages (from ipykernel>=4.5.1->ipywidgets>=7.6.5->medcat~=1.14.0) (1.6.0)\n",
            "Requirement already satisfied: pyzmq>=17 in /usr/local/lib/python3.11/dist-packages (from ipykernel>=4.5.1->ipywidgets>=7.6.5->medcat~=1.14.0) (24.0.1)\n",
            "Requirement already satisfied: tornado>=6.1 in /usr/local/lib/python3.11/dist-packages (from ipykernel>=4.5.1->ipywidgets>=7.6.5->medcat~=1.14.0) (6.4.2)\n",
            "Requirement already satisfied: jedi>=0.16 in /usr/local/lib/python3.11/dist-packages (from ipython>=4.0.0->ipywidgets>=7.6.5->medcat~=1.14.0) (0.19.2)\n",
            "Requirement already satisfied: decorator in /usr/local/lib/python3.11/dist-packages (from ipython>=4.0.0->ipywidgets>=7.6.5->medcat~=1.14.0) (4.4.2)\n",
            "Requirement already satisfied: pickleshare in /usr/local/lib/python3.11/dist-packages (from ipython>=4.0.0->ipywidgets>=7.6.5->medcat~=1.14.0) (0.7.5)\n",
            "Requirement already satisfied: prompt-toolkit!=3.0.0,!=3.0.1,<3.1.0,>=2.0.0 in /usr/local/lib/python3.11/dist-packages (from ipython>=4.0.0->ipywidgets>=7.6.5->medcat~=1.14.0) (3.0.50)\n",
            "Requirement already satisfied: pygments in /usr/local/lib/python3.11/dist-packages (from ipython>=4.0.0->ipywidgets>=7.6.5->medcat~=1.14.0) (2.18.0)\n",
            "Requirement already satisfied: backcall in /usr/local/lib/python3.11/dist-packages (from ipython>=4.0.0->ipywidgets>=7.6.5->medcat~=1.14.0) (0.2.0)\n",
            "Requirement already satisfied: pexpect>4.3 in /usr/local/lib/python3.11/dist-packages (from ipython>=4.0.0->ipywidgets>=7.6.5->medcat~=1.14.0) (4.9.0)\n",
            "Requirement already satisfied: language-data>=1.2 in /usr/local/lib/python3.11/dist-packages (from langcodes<4.0.0,>=3.2.0->spacy<3.8.0,>=3.6.0->medcat~=1.14.0) (1.3.0)\n",
            "Requirement already satisfied: six>=1.5 in /usr/local/lib/python3.11/dist-packages (from python-dateutil>=2.8.2->pandas>=1.4.2->medcat~=1.14.0) (1.17.0)\n",
            "Requirement already satisfied: charset-normalizer<4,>=2 in /usr/local/lib/python3.11/dist-packages (from requests>=2.32.2->datasets<3.0.0,>=2.2.2->medcat~=1.14.0) (3.4.1)\n",
            "Requirement already satisfied: idna<4,>=2.5 in /usr/local/lib/python3.11/dist-packages (from requests>=2.32.2->datasets<3.0.0,>=2.2.2->medcat~=1.14.0) (3.10)\n",
            "Requirement already satisfied: urllib3<3,>=1.21.1 in /usr/local/lib/python3.11/dist-packages (from requests>=2.32.2->datasets<3.0.0,>=2.2.2->medcat~=1.14.0) (2.3.0)\n",
            "Requirement already satisfied: certifi>=2017.4.17 in /usr/local/lib/python3.11/dist-packages (from requests>=2.32.2->datasets<3.0.0,>=2.2.2->medcat~=1.14.0) (2025.1.31)\n",
            "Requirement already satisfied: wrapt in /usr/local/lib/python3.11/dist-packages (from smart-open>=1.8.1->gensim<5.0.0,>=4.3.0->medcat~=1.14.0) (1.17.2)\n",
            "Requirement already satisfied: confection<1.0.0,>=0.0.1 in /usr/local/lib/python3.11/dist-packages (from thinc<8.3.0,>=8.2.2->spacy<3.8.0,>=3.6.0->medcat~=1.14.0) (0.1.5)\n",
            "Requirement already satisfied: shellingham>=1.3.0 in /usr/local/lib/python3.11/dist-packages (from typer<1.0.0,>=0.3.0->spacy<3.8.0,>=3.6.0->medcat~=1.14.0) (1.5.4)\n",
            "Requirement already satisfied: rich>=10.11.0 in /usr/local/lib/python3.11/dist-packages (from typer<1.0.0,>=0.3.0->spacy<3.8.0,>=3.6.0->medcat~=1.14.0) (13.9.4)\n",
            "Requirement already satisfied: cloudpathlib<1.0.0,>=0.7.0 in /usr/local/lib/python3.11/dist-packages (from weasel<0.5.0,>=0.1.0->spacy<3.8.0,>=3.6.0->medcat~=1.14.0) (0.20.0)\n",
            "Requirement already satisfied: notebook>=4.4.1 in /usr/local/lib/python3.11/dist-packages (from widgetsnbextension~=3.6.0->ipywidgets>=7.6.5->medcat~=1.14.0) (6.5.5)\n",
            "Requirement already satisfied: MarkupSafe>=2.0 in /usr/local/lib/python3.11/dist-packages (from jinja2->spacy<3.8.0,>=3.6.0->medcat~=1.14.0) (3.0.2)\n",
            "Requirement already satisfied: parso<0.9.0,>=0.8.4 in /usr/local/lib/python3.11/dist-packages (from jedi>=0.16->ipython>=4.0.0->ipywidgets>=7.6.5->medcat~=1.14.0) (0.8.4)\n",
            "Requirement already satisfied: jupyter-core>=4.6.0 in /usr/local/lib/python3.11/dist-packages (from jupyter-client>=6.1.12->ipykernel>=4.5.1->ipywidgets>=7.6.5->medcat~=1.14.0) (5.7.2)\n",
            "Requirement already satisfied: marisa-trie>=1.1.0 in /usr/local/lib/python3.11/dist-packages (from language-data>=1.2->langcodes<4.0.0,>=3.2.0->spacy<3.8.0,>=3.6.0->medcat~=1.14.0) (1.2.1)\n",
            "Requirement already satisfied: argon2-cffi in /usr/local/lib/python3.11/dist-packages (from notebook>=4.4.1->widgetsnbextension~=3.6.0->ipywidgets>=7.6.5->medcat~=1.14.0) (23.1.0)\n",
            "Requirement already satisfied: nbformat in /usr/local/lib/python3.11/dist-packages (from notebook>=4.4.1->widgetsnbextension~=3.6.0->ipywidgets>=7.6.5->medcat~=1.14.0) (5.10.4)\n",
            "Requirement already satisfied: nbconvert>=5 in /usr/local/lib/python3.11/dist-packages (from notebook>=4.4.1->widgetsnbextension~=3.6.0->ipywidgets>=7.6.5->medcat~=1.14.0) (7.16.6)\n",
            "Requirement already satisfied: Send2Trash>=1.8.0 in /usr/local/lib/python3.11/dist-packages (from notebook>=4.4.1->widgetsnbextension~=3.6.0->ipywidgets>=7.6.5->medcat~=1.14.0) (1.8.3)\n",
            "Requirement already satisfied: terminado>=0.8.3 in /usr/local/lib/python3.11/dist-packages (from notebook>=4.4.1->widgetsnbextension~=3.6.0->ipywidgets>=7.6.5->medcat~=1.14.0) (0.18.1)\n",
            "Requirement already satisfied: prometheus-client in /usr/local/lib/python3.11/dist-packages (from notebook>=4.4.1->widgetsnbextension~=3.6.0->ipywidgets>=7.6.5->medcat~=1.14.0) (0.21.1)\n",
            "Requirement already satisfied: nbclassic>=0.4.7 in /usr/local/lib/python3.11/dist-packages (from notebook>=4.4.1->widgetsnbextension~=3.6.0->ipywidgets>=7.6.5->medcat~=1.14.0) (1.2.0)\n",
            "Requirement already satisfied: ptyprocess>=0.5 in /usr/local/lib/python3.11/dist-packages (from pexpect>4.3->ipython>=4.0.0->ipywidgets>=7.6.5->medcat~=1.14.0) (0.7.0)\n",
            "Requirement already satisfied: wcwidth in /usr/local/lib/python3.11/dist-packages (from prompt-toolkit!=3.0.0,!=3.0.1,<3.1.0,>=2.0.0->ipython>=4.0.0->ipywidgets>=7.6.5->medcat~=1.14.0) (0.2.13)\n",
            "Requirement already satisfied: markdown-it-py>=2.2.0 in /usr/local/lib/python3.11/dist-packages (from rich>=10.11.0->typer<1.0.0,>=0.3.0->spacy<3.8.0,>=3.6.0->medcat~=1.14.0) (3.0.0)\n",
            "Requirement already satisfied: platformdirs>=2.5 in /usr/local/lib/python3.11/dist-packages (from jupyter-core>=4.6.0->jupyter-client>=6.1.12->ipykernel>=4.5.1->ipywidgets>=7.6.5->medcat~=1.14.0) (4.3.6)\n",
            "Requirement already satisfied: mdurl~=0.1 in /usr/local/lib/python3.11/dist-packages (from markdown-it-py>=2.2.0->rich>=10.11.0->typer<1.0.0,>=0.3.0->spacy<3.8.0,>=3.6.0->medcat~=1.14.0) (0.1.2)\n",
            "Requirement already satisfied: notebook-shim>=0.2.3 in /usr/local/lib/python3.11/dist-packages (from nbclassic>=0.4.7->notebook>=4.4.1->widgetsnbextension~=3.6.0->ipywidgets>=7.6.5->medcat~=1.14.0) (0.2.4)\n",
            "Requirement already satisfied: beautifulsoup4 in /usr/local/lib/python3.11/dist-packages (from nbconvert>=5->notebook>=4.4.1->widgetsnbextension~=3.6.0->ipywidgets>=7.6.5->medcat~=1.14.0) (4.13.3)\n",
            "Requirement already satisfied: bleach!=5.0.0 in /usr/local/lib/python3.11/dist-packages (from bleach[css]!=5.0.0->nbconvert>=5->notebook>=4.4.1->widgetsnbextension~=3.6.0->ipywidgets>=7.6.5->medcat~=1.14.0) (6.2.0)\n",
            "Requirement already satisfied: defusedxml in /usr/local/lib/python3.11/dist-packages (from nbconvert>=5->notebook>=4.4.1->widgetsnbextension~=3.6.0->ipywidgets>=7.6.5->medcat~=1.14.0) (0.7.1)\n",
            "Requirement already satisfied: jupyterlab-pygments in /usr/local/lib/python3.11/dist-packages (from nbconvert>=5->notebook>=4.4.1->widgetsnbextension~=3.6.0->ipywidgets>=7.6.5->medcat~=1.14.0) (0.3.0)\n",
            "Requirement already satisfied: mistune<4,>=2.0.3 in /usr/local/lib/python3.11/dist-packages (from nbconvert>=5->notebook>=4.4.1->widgetsnbextension~=3.6.0->ipywidgets>=7.6.5->medcat~=1.14.0) (3.1.2)\n",
            "Requirement already satisfied: nbclient>=0.5.0 in /usr/local/lib/python3.11/dist-packages (from nbconvert>=5->notebook>=4.4.1->widgetsnbextension~=3.6.0->ipywidgets>=7.6.5->medcat~=1.14.0) (0.10.2)\n",
            "Requirement already satisfied: pandocfilters>=1.4.1 in /usr/local/lib/python3.11/dist-packages (from nbconvert>=5->notebook>=4.4.1->widgetsnbextension~=3.6.0->ipywidgets>=7.6.5->medcat~=1.14.0) (1.5.1)\n",
            "Requirement already satisfied: fastjsonschema>=2.15 in /usr/local/lib/python3.11/dist-packages (from nbformat->notebook>=4.4.1->widgetsnbextension~=3.6.0->ipywidgets>=7.6.5->medcat~=1.14.0) (2.21.1)\n",
            "Requirement already satisfied: jsonschema>=2.6 in /usr/local/lib/python3.11/dist-packages (from nbformat->notebook>=4.4.1->widgetsnbextension~=3.6.0->ipywidgets>=7.6.5->medcat~=1.14.0) (4.23.0)\n",
            "Requirement already satisfied: argon2-cffi-bindings in /usr/local/lib/python3.11/dist-packages (from argon2-cffi->notebook>=4.4.1->widgetsnbextension~=3.6.0->ipywidgets>=7.6.5->medcat~=1.14.0) (21.2.0)\n",
            "Requirement already satisfied: webencodings in /usr/local/lib/python3.11/dist-packages (from bleach!=5.0.0->bleach[css]!=5.0.0->nbconvert>=5->notebook>=4.4.1->widgetsnbextension~=3.6.0->ipywidgets>=7.6.5->medcat~=1.14.0) (0.5.1)\n",
            "Requirement already satisfied: tinycss2<1.5,>=1.1.0 in /usr/local/lib/python3.11/dist-packages (from bleach[css]!=5.0.0->nbconvert>=5->notebook>=4.4.1->widgetsnbextension~=3.6.0->ipywidgets>=7.6.5->medcat~=1.14.0) (1.4.0)\n",
            "Requirement already satisfied: jsonschema-specifications>=2023.03.6 in /usr/local/lib/python3.11/dist-packages (from jsonschema>=2.6->nbformat->notebook>=4.4.1->widgetsnbextension~=3.6.0->ipywidgets>=7.6.5->medcat~=1.14.0) (2024.10.1)\n",
            "Requirement already satisfied: referencing>=0.28.4 in /usr/local/lib/python3.11/dist-packages (from jsonschema>=2.6->nbformat->notebook>=4.4.1->widgetsnbextension~=3.6.0->ipywidgets>=7.6.5->medcat~=1.14.0) (0.36.2)\n",
            "Requirement already satisfied: rpds-py>=0.7.1 in /usr/local/lib/python3.11/dist-packages (from jsonschema>=2.6->nbformat->notebook>=4.4.1->widgetsnbextension~=3.6.0->ipywidgets>=7.6.5->medcat~=1.14.0) (0.23.1)\n",
            "Requirement already satisfied: jupyter-server<3,>=1.8 in /usr/local/lib/python3.11/dist-packages (from notebook-shim>=0.2.3->nbclassic>=0.4.7->notebook>=4.4.1->widgetsnbextension~=3.6.0->ipywidgets>=7.6.5->medcat~=1.14.0) (1.24.0)\n",
            "Requirement already satisfied: cffi>=1.0.1 in /usr/local/lib/python3.11/dist-packages (from argon2-cffi-bindings->argon2-cffi->notebook>=4.4.1->widgetsnbextension~=3.6.0->ipywidgets>=7.6.5->medcat~=1.14.0) (1.17.1)\n",
            "Requirement already satisfied: soupsieve>1.2 in /usr/local/lib/python3.11/dist-packages (from beautifulsoup4->nbconvert>=5->notebook>=4.4.1->widgetsnbextension~=3.6.0->ipywidgets>=7.6.5->medcat~=1.14.0) (2.6)\n",
            "Requirement already satisfied: pycparser in /usr/local/lib/python3.11/dist-packages (from cffi>=1.0.1->argon2-cffi-bindings->argon2-cffi->notebook>=4.4.1->widgetsnbextension~=3.6.0->ipywidgets>=7.6.5->medcat~=1.14.0) (2.22)\n",
            "Requirement already satisfied: anyio<4,>=3.1.0 in /usr/local/lib/python3.11/dist-packages (from jupyter-server<3,>=1.8->notebook-shim>=0.2.3->nbclassic>=0.4.7->notebook>=4.4.1->widgetsnbextension~=3.6.0->ipywidgets>=7.6.5->medcat~=1.14.0) (3.7.1)\n",
            "Requirement already satisfied: websocket-client in /usr/local/lib/python3.11/dist-packages (from jupyter-server<3,>=1.8->notebook-shim>=0.2.3->nbclassic>=0.4.7->notebook>=4.4.1->widgetsnbextension~=3.6.0->ipywidgets>=7.6.5->medcat~=1.14.0) (1.8.0)\n",
            "Requirement already satisfied: sniffio>=1.1 in /usr/local/lib/python3.11/dist-packages (from anyio<4,>=3.1.0->jupyter-server<3,>=1.8->notebook-shim>=0.2.3->nbclassic>=0.4.7->notebook>=4.4.1->widgetsnbextension~=3.6.0->ipywidgets>=7.6.5->medcat~=1.14.0) (1.3.1)\n"
          ]
        },
        {
          "metadata": {
            "tags": null
          },
          "name": "stderr",
          "output_type": "stream",
          "text": [
            "/usr/local/lib/python3.11/dist-packages/medcat/cat.py:17: TqdmExperimentalWarning: Using `tqdm.autonotebook.tqdm` in notebook mode. Use `tqdm.tqdm` instead to force console mode (e.g. in jupyter console)\n",
            "  from tqdm.autonotebook import tqdm, trange\n"
          ]
        }
      ],
      "source": [
        "# Install medcat\n",
        "! pip install medcat~=1.14.0\n",
        "try:\n",
        "    from medcat.cat import CAT\n",
        "except:\n",
        "    print(\"WARNING: Runtime will restart automatically and please run other cells thereafter.\")\n",
        "    exit()"
      ]
    },
    {
      "cell_type": "markdown",
      "metadata": {
        "id": "xsX172UChk_U"
      },
      "source": [
        "First of all, we want to import MedCAT and make sure that the version we're looking at includes the newer logging functionality."
      ]
    },
    {
      "cell_type": "code",
      "execution_count": null,
      "metadata": {
        "id": "pIvw3F4Dhk_V"
      },
      "outputs": [],
      "source": [
        "# import medcat\n",
        "import medcat\n",
        "# we will use the below later\n",
        "from medcat import config\n",
        "from medcat import cat\n",
        "import os\n",
        "# print out version string\n",
        "print(medcat.__version__)\n",
        "# make sure there is a logger\n",
        "if not hasattr(medcat, 'logger'):\n",
        "    raise ValueError(\"This is an incompatible version!\")\n",
        "print(\"The package logger:\", medcat.logger)\n",
        "\n",
        "def reset_all_logger_handlers(log_file='temp_medcat.log'): # reset logger handlers in case a block is run multiple times\n",
        "    medcat.logger.handlers = medcat.logger.handlers[:1] # include the default NullHandler\n",
        "    config.logger.handlers = []\n",
        "    cat.logger.handlers = []\n",
        "    # remove temp log file if it exists\n",
        "    if os.path.exists(log_file):\n",
        "        os.remove(log_file)"
      ]
    },
    {
      "cell_type": "markdown",
      "metadata": {
        "id": "KWnguKg2hk_V"
      },
      "source": [
        "What we must now understand is that the `logging` library uses a hierarchical system for the loggers. That means that all the module-level loggers within MedCAT have the `medcat.logger` (which is the package-level logger) as their parent logger. So if we want to change the logging behaviour for the entire project, we can just interact with this one logger. However, if we want fine grained control, we can interact with each module-level logger separately."
      ]
    },
    {
      "cell_type": "markdown",
      "metadata": {
        "id": "YjhkTyGJhk_V"
      },
      "source": [
        "## The shorthand for logging\n",
        "We have created a shorthand method to enable logging into the console as well as the `medcat.log` file. This is the `medcat.add_default_log_handlers` method. If you call it without any arguments, it will act on the package-level logger and use the above mentioned default file. However, the user can call this method with any other logger and/or target file name."
      ]
    },
    {
      "cell_type": "code",
      "execution_count": null,
      "metadata": {
        "id": "gW9tYqIShk_W"
      },
      "outputs": [],
      "source": [
        "log_file = 'temp_medcat.log'\n",
        "import os\n",
        "# the default behaviour is to not log anything, the following should thus not create any output\n",
        "medcat.logger.warning(\"This should be ignored\")\n",
        "print('Log file should not exists, does it?', os.path.exists(log_file))\n",
        "# enable default loggging to the package-level logger\n",
        "medcat.add_default_log_handlers(target_file=log_file)\n",
        "# now we should have a console logger as well as a log in medcat.log\n",
        "# so we should see the following output to both\n",
        "msg = \"This message should show up in console and be written to medcat.log\"\n",
        "medcat.logger.warning(msg)\n",
        "with open(log_file, 'r') as f:\n",
        "    last_line = f.readlines()[-1][:-1] # last line, ignoring the newline char\n",
        "    print(\"Last line should be equal to our message\", msg == last_line)\n",
        "reset_all_logger_handlers(log_file) # for cleanup"
      ]
    },
    {
      "cell_type": "markdown",
      "metadata": {
        "id": "4oRvYFRWhk_W"
      },
      "source": [
        "The above example was trivial since we were acting on the logger ourselves. In production, this would happen as a side effect instead. But since the code is acting on the same instance, the result will be the same as well.\n",
        "\n",
        "The other thing to note is the fact that the above example changes the package-level logger. That is, it will change the logging behaviour within the entire project. However, as mentioned above, one can do this for each module separately as well.\n",
        "\n",
        "Every module that needs to log something will define a module level variable `logger`. When adjusting this logger, the change in behaviour will only affect that logger and thus only affect that module's output."
      ]
    },
    {
      "cell_type": "markdown",
      "metadata": {
        "id": "k7USnti0hk_W"
      },
      "source": [
        "So we will now try to show that a little more precisely.\n",
        "In order to do that, we will use the logger attached to `medcat.config`."
      ]
    },
    {
      "cell_type": "code",
      "execution_count": null,
      "metadata": {
        "id": "6tnb7fIKhk_X"
      },
      "outputs": [],
      "source": [
        "import logging\n",
        "config.logger.addHandler(logging.StreamHandler())\n",
        "# now, the medcat.logger won't log into console\n",
        "medcat.logger.error(\"This error does not show up\")\n",
        "# however, the config.logger will\n",
        "config.logger.warning(\"This warning will show up\")\n",
        "# and at the same time, we can see that the logger of cat won't log anything either\n",
        "cat.logger.warning(\"This warning will not show up either\")\n",
        "reset_all_logger_handlers() # for cleanup"
      ]
    },
    {
      "cell_type": "markdown",
      "metadata": {
        "id": "BA3fXwf2hk_X"
      },
      "source": [
        "## Adding a handler that logs into a file\n",
        "Of course, one can also add a handler that logs things into a file. Just like we saw with the default handlers above. We can use this to have different modules in the project log to different files"
      ]
    },
    {
      "cell_type": "code",
      "execution_count": null,
      "metadata": {
        "id": "vawZVo74hk_X"
      },
      "outputs": [],
      "source": [
        "target_file_config = 'medcat_config.log' # some target log file for config logger\n",
        "target_file_cat = 'medcat_cat.log' # different log file for cat\n",
        "# set up different file handlers for the two different modules\n",
        "config.logger.addHandler(logging.FileHandler(target_file_config))\n",
        "cat.logger.addHandler(logging.FileHandler(target_file_cat))\n",
        "# config now logs into a different file than cat\n",
        "# i.e the following gets logged into config's log file\n",
        "config.logger.warning(\"There has been an issue with the config\")\n",
        "# and the following gets logged into cat's log file\n",
        "cat.logger.error(\"There was a critical issue in CAT\")\n",
        "# we can check that by looking at the files\n",
        "with open(target_file_config) as f:\n",
        "    config_contents = f.read()\n",
        "with open(target_file_cat) as f:\n",
        "    cat_contents = f.read()\n",
        "print('Config log contents:\\n', config_contents)\n",
        "print('CAT log contents:\\n', cat_contents)\n",
        "# cleanup\n",
        "reset_all_logger_handlers(target_file_config)\n",
        "reset_all_logger_handlers(target_file_cat)"
      ]
    },
    {
      "cell_type": "markdown",
      "metadata": {
        "id": "na7KpQEWhk_X"
      },
      "source": [
        "One can also modify other things within loggers for different modules. I.e adding filters or setting levels for different loggers. You can read more about these things at https://realpython.com/python-logging-source-code/."
      ]
    }
  ],
  "metadata": {
    "kernelspec": {
      "display_name": "Python 3",
      "name": "python3"
    },
    "language_info": {
      "codemirror_mode": {
        "name": "ipython",
        "version": 3
      },
      "file_extension": ".py",
      "mimetype": "text/x-python",
      "name": "python",
      "nbconvert_exporter": "python",
      "pygments_lexer": "ipython3",
      "version": "3.9.6"
    },
    "vscode": {
      "interpreter": {
        "hash": "0d20877e080635f7c4968c49fce8aa5e74c8d7837295e20d04554edce953f9c6"
      }
    },
    "colab": {
      "provenance": []
    }
  },
  "nbformat": 4,
  "nbformat_minor": 0
}