{
  "cells": [
    {
      "cell_type": "markdown",
      "metadata": {
        "id": "vhiUZ8851mhW"
      },
      "source": [
        "# MedCAT tutorial - Dataset Analysis and Preparation\n",
        "\n",
        "Welcome to the MedCAT tutorials!\n",
        "\n",
        "First before be begin extracting information from with patient records.\n",
        "As with the begining of every datascience project. Let's explore the data that we are dealing with.\n",
        "\n"
      ]
    },
    {
      "cell_type": "code",
      "execution_count": 1,
      "metadata": {
        "id": "7SoD_jahU16R"
      },
      "outputs": [],
      "source": [
        "import numpy as np\n",
        "import pandas as pd\n",
        "import seaborn as sns\n",
        "import matplotlib.pyplot as plt"
      ]
    },
    {
      "cell_type": "code",
      "execution_count": 2,
      "metadata": {
        "id": "XhWuQ85eadQL"
      },
      "outputs": [],
      "source": [
        "%matplotlib inline"
      ]
    },
    {
      "cell_type": "markdown",
      "metadata": {
        "id": "WodlSMPEadQO"
      },
      "source": [
        "### Datasets\n",
        "\n",
        "If you are using MIMIC-III you will have the create the create the `patients.csv` and `noteevents.csv` and place them into the folder specified below. How to prepare the CSV files is explained in the blog post [MedCAT | Dataset Analysis and Preparation](https://towardsdatascience.com/medcat-dataset-analysis-and-preparation-be8bc910bd6d)."
      ]
    },
    {
      "cell_type": "code",
      "execution_count": 6,
      "metadata": {
        "id": "QOf7zPp-adQP"
      },
      "outputs": [],
      "source": [
        "DATA_DIR = \"./data_p2/\"\n",
        "! DATA_DIR=\"./data_p2/\""
      ]
    },
    {
      "cell_type": "markdown",
      "metadata": {
        "id": "DfHK0VuybBEf"
      },
      "source": [
        "### Download the data (only if using the pre-made datasets and not MIMIC-III)"
      ]
    },
    {
      "cell_type": "code",
      "execution_count": 7,
      "metadata": {
        "colab": {
          "base_uri": "https://localhost:8080/"
        },
        "id": "kMwoQNQYUs3_",
        "outputId": "8a93f206-3ad3-401c-fdc2-033090d2bda7"
      },
      "outputs": [
        {
          "output_type": "stream",
          "name": "stdout",
          "text": [
            "--2025-03-04 10:31:47--  https://raw.githubusercontent.com/CogStack/MedCATtutorials/main/notebooks/introductory/data/noteevents.csv\n",
            "Resolving raw.githubusercontent.com (raw.githubusercontent.com)... 185.199.108.133, 185.199.109.133, 185.199.110.133, ...\n",
            "Connecting to raw.githubusercontent.com (raw.githubusercontent.com)|185.199.108.133|:443... connected.\n",
            "HTTP request sent, awaiting response... 200 OK\n",
            "Length: 7171226 (6.8M) [text/plain]\n",
            "Saving to: ‘./data_p2/noteevents.csv’\n",
            "\n",
            "noteevents.csv      100%[===================>]   6.84M  --.-KB/s    in 0.09s   \n",
            "\n",
            "Last-modified header missing -- time-stamps turned off.\n",
            "2025-03-04 10:31:47 (76.0 MB/s) - ‘./data_p2/noteevents.csv’ saved [7171226/7171226]\n",
            "\n",
            "--2025-03-04 10:31:47--  https://raw.githubusercontent.com/CogStack/MedCATtutorials/main/notebooks/introductory/data/patients.csv\n",
            "Resolving raw.githubusercontent.com (raw.githubusercontent.com)... 185.199.108.133, 185.199.109.133, 185.199.110.133, ...\n",
            "Connecting to raw.githubusercontent.com (raw.githubusercontent.com)|185.199.108.133|:443... connected.\n",
            "HTTP request sent, awaiting response... 200 OK\n",
            "Length: 4411 (4.3K) [text/plain]\n",
            "Saving to: ‘./data_p2/patients.csv’\n",
            "\n",
            "patients.csv        100%[===================>]   4.31K  --.-KB/s    in 0s      \n",
            "\n",
            "Last-modified header missing -- time-stamps turned off.\n",
            "2025-03-04 10:31:48 (49.4 MB/s) - ‘./data_p2/patients.csv’ saved [4411/4411]\n",
            "\n"
          ]
        }
      ],
      "source": [
        "# Load files if in google colab, otherwise skip this step\n",
        "! wget -N https://raw.githubusercontent.com/CogStack/MedCATtutorials/main/notebooks/introductory/data/noteevents.csv -P $DATA_DIR\n",
        "! wget -N https://raw.githubusercontent.com/CogStack/MedCATtutorials/main/notebooks/introductory/data/patients.csv -P $DATA_DIR"
      ]
    },
    {
      "cell_type": "markdown",
      "metadata": {
        "id": "ZjqO9HkEcyf8"
      },
      "source": [
        "### Set plot sizes and style"
      ]
    },
    {
      "cell_type": "code",
      "execution_count": 8,
      "metadata": {
        "id": "1_-QgGn4adQS"
      },
      "outputs": [],
      "source": [
        "# Set size and color for plots\n",
        "sns.reset_defaults()\n",
        "sns.set(\n",
        "    rc={'figure.figsize':(4,5)},\n",
        "    style=\"white\"\n",
        ")"
      ]
    },
    {
      "cell_type": "markdown",
      "metadata": {
        "id": "-vlL4GHuadQV"
      },
      "source": [
        "## Statistics on patients"
      ]
    },
    {
      "cell_type": "code",
      "execution_count": 9,
      "metadata": {
        "colab": {
          "base_uri": "https://localhost:8080/",
          "height": 206
        },
        "id": "-qWCJns4adQV",
        "outputId": "2ffd4ff8-6910-42ba-fe71-1e68c6cdc5ad"
      },
      "outputs": [
        {
          "output_type": "execute_result",
          "data": {
            "text/plain": [
              "   subject_id gender       dob\n",
              "0           0      M  1/1/2018\n",
              "1           1      F  1/1/2018\n",
              "2           2      F  1/1/2018\n",
              "3           3      M  1/1/2018\n",
              "4           4      M  1/1/2018"
            ],
            "text/html": [
              "\n",
              "  <div id=\"df-d468fac4-bb72-4dd4-816b-dc72aa7e785e\" class=\"colab-df-container\">\n",
              "    <div>\n",
              "<style scoped>\n",
              "    .dataframe tbody tr th:only-of-type {\n",
              "        vertical-align: middle;\n",
              "    }\n",
              "\n",
              "    .dataframe tbody tr th {\n",
              "        vertical-align: top;\n",
              "    }\n",
              "\n",
              "    .dataframe thead th {\n",
              "        text-align: right;\n",
              "    }\n",
              "</style>\n",
              "<table border=\"1\" class=\"dataframe\">\n",
              "  <thead>\n",
              "    <tr style=\"text-align: right;\">\n",
              "      <th></th>\n",
              "      <th>subject_id</th>\n",
              "      <th>gender</th>\n",
              "      <th>dob</th>\n",
              "    </tr>\n",
              "  </thead>\n",
              "  <tbody>\n",
              "    <tr>\n",
              "      <th>0</th>\n",
              "      <td>0</td>\n",
              "      <td>M</td>\n",
              "      <td>1/1/2018</td>\n",
              "    </tr>\n",
              "    <tr>\n",
              "      <th>1</th>\n",
              "      <td>1</td>\n",
              "      <td>F</td>\n",
              "      <td>1/1/2018</td>\n",
              "    </tr>\n",
              "    <tr>\n",
              "      <th>2</th>\n",
              "      <td>2</td>\n",
              "      <td>F</td>\n",
              "      <td>1/1/2018</td>\n",
              "    </tr>\n",
              "    <tr>\n",
              "      <th>3</th>\n",
              "      <td>3</td>\n",
              "      <td>M</td>\n",
              "      <td>1/1/2018</td>\n",
              "    </tr>\n",
              "    <tr>\n",
              "      <th>4</th>\n",
              "      <td>4</td>\n",
              "      <td>M</td>\n",
              "      <td>1/1/2018</td>\n",
              "    </tr>\n",
              "  </tbody>\n",
              "</table>\n",
              "</div>\n",
              "    <div class=\"colab-df-buttons\">\n",
              "\n",
              "  <div class=\"colab-df-container\">\n",
              "    <button class=\"colab-df-convert\" onclick=\"convertToInteractive('df-d468fac4-bb72-4dd4-816b-dc72aa7e785e')\"\n",
              "            title=\"Convert this dataframe to an interactive table.\"\n",
              "            style=\"display:none;\">\n",
              "\n",
              "  <svg xmlns=\"http://www.w3.org/2000/svg\" height=\"24px\" viewBox=\"0 -960 960 960\">\n",
              "    <path d=\"M120-120v-720h720v720H120Zm60-500h600v-160H180v160Zm220 220h160v-160H400v160Zm0 220h160v-160H400v160ZM180-400h160v-160H180v160Zm440 0h160v-160H620v160ZM180-180h160v-160H180v160Zm440 0h160v-160H620v160Z\"/>\n",
              "  </svg>\n",
              "    </button>\n",
              "\n",
              "  <style>\n",
              "    .colab-df-container {\n",
              "      display:flex;\n",
              "      gap: 12px;\n",
              "    }\n",
              "\n",
              "    .colab-df-convert {\n",
              "      background-color: #E8F0FE;\n",
              "      border: none;\n",
              "      border-radius: 50%;\n",
              "      cursor: pointer;\n",
              "      display: none;\n",
              "      fill: #1967D2;\n",
              "      height: 32px;\n",
              "      padding: 0 0 0 0;\n",
              "      width: 32px;\n",
              "    }\n",
              "\n",
              "    .colab-df-convert:hover {\n",
              "      background-color: #E2EBFA;\n",
              "      box-shadow: 0px 1px 2px rgba(60, 64, 67, 0.3), 0px 1px 3px 1px rgba(60, 64, 67, 0.15);\n",
              "      fill: #174EA6;\n",
              "    }\n",
              "\n",
              "    .colab-df-buttons div {\n",
              "      margin-bottom: 4px;\n",
              "    }\n",
              "\n",
              "    [theme=dark] .colab-df-convert {\n",
              "      background-color: #3B4455;\n",
              "      fill: #D2E3FC;\n",
              "    }\n",
              "\n",
              "    [theme=dark] .colab-df-convert:hover {\n",
              "      background-color: #434B5C;\n",
              "      box-shadow: 0px 1px 3px 1px rgba(0, 0, 0, 0.15);\n",
              "      filter: drop-shadow(0px 1px 2px rgba(0, 0, 0, 0.3));\n",
              "      fill: #FFFFFF;\n",
              "    }\n",
              "  </style>\n",
              "\n",
              "    <script>\n",
              "      const buttonEl =\n",
              "        document.querySelector('#df-d468fac4-bb72-4dd4-816b-dc72aa7e785e button.colab-df-convert');\n",
              "      buttonEl.style.display =\n",
              "        google.colab.kernel.accessAllowed ? 'block' : 'none';\n",
              "\n",
              "      async function convertToInteractive(key) {\n",
              "        const element = document.querySelector('#df-d468fac4-bb72-4dd4-816b-dc72aa7e785e');\n",
              "        const dataTable =\n",
              "          await google.colab.kernel.invokeFunction('convertToInteractive',\n",
              "                                                    [key], {});\n",
              "        if (!dataTable) return;\n",
              "\n",
              "        const docLinkHtml = 'Like what you see? Visit the ' +\n",
              "          '<a target=\"_blank\" href=https://colab.research.google.com/notebooks/data_table.ipynb>data table notebook</a>'\n",
              "          + ' to learn more about interactive tables.';\n",
              "        element.innerHTML = '';\n",
              "        dataTable['output_type'] = 'display_data';\n",
              "        await google.colab.output.renderOutput(dataTable, element);\n",
              "        const docLink = document.createElement('div');\n",
              "        docLink.innerHTML = docLinkHtml;\n",
              "        element.appendChild(docLink);\n",
              "      }\n",
              "    </script>\n",
              "  </div>\n",
              "\n",
              "\n",
              "<div id=\"df-f4f4e79b-4a45-4991-8d5f-16b0e84c2d7f\">\n",
              "  <button class=\"colab-df-quickchart\" onclick=\"quickchart('df-f4f4e79b-4a45-4991-8d5f-16b0e84c2d7f')\"\n",
              "            title=\"Suggest charts\"\n",
              "            style=\"display:none;\">\n",
              "\n",
              "<svg xmlns=\"http://www.w3.org/2000/svg\" height=\"24px\"viewBox=\"0 0 24 24\"\n",
              "     width=\"24px\">\n",
              "    <g>\n",
              "        <path d=\"M19 3H5c-1.1 0-2 .9-2 2v14c0 1.1.9 2 2 2h14c1.1 0 2-.9 2-2V5c0-1.1-.9-2-2-2zM9 17H7v-7h2v7zm4 0h-2V7h2v10zm4 0h-2v-4h2v4z\"/>\n",
              "    </g>\n",
              "</svg>\n",
              "  </button>\n",
              "\n",
              "<style>\n",
              "  .colab-df-quickchart {\n",
              "      --bg-color: #E8F0FE;\n",
              "      --fill-color: #1967D2;\n",
              "      --hover-bg-color: #E2EBFA;\n",
              "      --hover-fill-color: #174EA6;\n",
              "      --disabled-fill-color: #AAA;\n",
              "      --disabled-bg-color: #DDD;\n",
              "  }\n",
              "\n",
              "  [theme=dark] .colab-df-quickchart {\n",
              "      --bg-color: #3B4455;\n",
              "      --fill-color: #D2E3FC;\n",
              "      --hover-bg-color: #434B5C;\n",
              "      --hover-fill-color: #FFFFFF;\n",
              "      --disabled-bg-color: #3B4455;\n",
              "      --disabled-fill-color: #666;\n",
              "  }\n",
              "\n",
              "  .colab-df-quickchart {\n",
              "    background-color: var(--bg-color);\n",
              "    border: none;\n",
              "    border-radius: 50%;\n",
              "    cursor: pointer;\n",
              "    display: none;\n",
              "    fill: var(--fill-color);\n",
              "    height: 32px;\n",
              "    padding: 0;\n",
              "    width: 32px;\n",
              "  }\n",
              "\n",
              "  .colab-df-quickchart:hover {\n",
              "    background-color: var(--hover-bg-color);\n",
              "    box-shadow: 0 1px 2px rgba(60, 64, 67, 0.3), 0 1px 3px 1px rgba(60, 64, 67, 0.15);\n",
              "    fill: var(--button-hover-fill-color);\n",
              "  }\n",
              "\n",
              "  .colab-df-quickchart-complete:disabled,\n",
              "  .colab-df-quickchart-complete:disabled:hover {\n",
              "    background-color: var(--disabled-bg-color);\n",
              "    fill: var(--disabled-fill-color);\n",
              "    box-shadow: none;\n",
              "  }\n",
              "\n",
              "  .colab-df-spinner {\n",
              "    border: 2px solid var(--fill-color);\n",
              "    border-color: transparent;\n",
              "    border-bottom-color: var(--fill-color);\n",
              "    animation:\n",
              "      spin 1s steps(1) infinite;\n",
              "  }\n",
              "\n",
              "  @keyframes spin {\n",
              "    0% {\n",
              "      border-color: transparent;\n",
              "      border-bottom-color: var(--fill-color);\n",
              "      border-left-color: var(--fill-color);\n",
              "    }\n",
              "    20% {\n",
              "      border-color: transparent;\n",
              "      border-left-color: var(--fill-color);\n",
              "      border-top-color: var(--fill-color);\n",
              "    }\n",
              "    30% {\n",
              "      border-color: transparent;\n",
              "      border-left-color: var(--fill-color);\n",
              "      border-top-color: var(--fill-color);\n",
              "      border-right-color: var(--fill-color);\n",
              "    }\n",
              "    40% {\n",
              "      border-color: transparent;\n",
              "      border-right-color: var(--fill-color);\n",
              "      border-top-color: var(--fill-color);\n",
              "    }\n",
              "    60% {\n",
              "      border-color: transparent;\n",
              "      border-right-color: var(--fill-color);\n",
              "    }\n",
              "    80% {\n",
              "      border-color: transparent;\n",
              "      border-right-color: var(--fill-color);\n",
              "      border-bottom-color: var(--fill-color);\n",
              "    }\n",
              "    90% {\n",
              "      border-color: transparent;\n",
              "      border-bottom-color: var(--fill-color);\n",
              "    }\n",
              "  }\n",
              "</style>\n",
              "\n",
              "  <script>\n",
              "    async function quickchart(key) {\n",
              "      const quickchartButtonEl =\n",
              "        document.querySelector('#' + key + ' button');\n",
              "      quickchartButtonEl.disabled = true;  // To prevent multiple clicks.\n",
              "      quickchartButtonEl.classList.add('colab-df-spinner');\n",
              "      try {\n",
              "        const charts = await google.colab.kernel.invokeFunction(\n",
              "            'suggestCharts', [key], {});\n",
              "      } catch (error) {\n",
              "        console.error('Error during call to suggestCharts:', error);\n",
              "      }\n",
              "      quickchartButtonEl.classList.remove('colab-df-spinner');\n",
              "      quickchartButtonEl.classList.add('colab-df-quickchart-complete');\n",
              "    }\n",
              "    (() => {\n",
              "      let quickchartButtonEl =\n",
              "        document.querySelector('#df-f4f4e79b-4a45-4991-8d5f-16b0e84c2d7f button');\n",
              "      quickchartButtonEl.style.display =\n",
              "        google.colab.kernel.accessAllowed ? 'block' : 'none';\n",
              "    })();\n",
              "  </script>\n",
              "</div>\n",
              "\n",
              "    </div>\n",
              "  </div>\n"
            ],
            "application/vnd.google.colaboratory.intrinsic+json": {
              "type": "dataframe",
              "variable_name": "patients",
              "summary": "{\n  \"name\": \"patients\",\n  \"rows\": 300,\n  \"fields\": [\n    {\n      \"column\": \"subject_id\",\n      \"properties\": {\n        \"dtype\": \"number\",\n        \"std\": 86,\n        \"min\": 0,\n        \"max\": 299,\n        \"num_unique_values\": 300,\n        \"samples\": [\n          203,\n          266,\n          152\n        ],\n        \"semantic_type\": \"\",\n        \"description\": \"\"\n      }\n    },\n    {\n      \"column\": \"gender\",\n      \"properties\": {\n        \"dtype\": \"category\",\n        \"num_unique_values\": 2,\n        \"samples\": [\n          \"F\",\n          \"M\"\n        ],\n        \"semantic_type\": \"\",\n        \"description\": \"\"\n      }\n    },\n    {\n      \"column\": \"dob\",\n      \"properties\": {\n        \"dtype\": \"object\",\n        \"num_unique_values\": 1,\n        \"samples\": [\n          \"1/1/2018\"\n        ],\n        \"semantic_type\": \"\",\n        \"description\": \"\"\n      }\n    }\n  ]\n}"
            }
          },
          "metadata": {},
          "execution_count": 9
        }
      ],
      "source": [
        "patients = pd.read_csv(DATA_DIR + \"patients.csv\")\n",
        "patients.head()"
      ]
    },
    {
      "cell_type": "code",
      "execution_count": 10,
      "metadata": {
        "colab": {
          "base_uri": "https://localhost:8080/",
          "height": 473
        },
        "id": "2G0t_YbgadQY",
        "outputId": "09629680-0582-459d-c6f4-ed7000298f7c"
      },
      "outputs": [
        {
          "output_type": "display_data",
          "data": {
            "text/plain": [
              "<Figure size 400x500 with 1 Axes>"
            ],
            "image/png": "[encoded data removed]"
          },
          "metadata": {}
        }
      ],
      "source": [
        "sns.countplot(patients['gender'])\n",
        "plt.show()"
      ]
    },
    {
      "cell_type": "code",
      "execution_count": 11,
      "metadata": {
        "colab": {
          "base_uri": "https://localhost:8080/"
        },
        "id": "zBvtOGP_adQa",
        "outputId": "29321d14-f740-4e0c-a691-67025874b74c"
      },
      "outputs": [
        {
          "output_type": "stream",
          "name": "stdout",
          "text": [
            "Total number of patients: 300\n",
            "Male: 140\n",
            "Female: 160\n"
          ]
        }
      ],
      "source": [
        "print(f\"Total number of patients: {len(patients)}\")\n",
        "print(f\"Male: {len(patients[patients['gender'] == 'M'])}\")\n",
        "print(f\"Female: {len(patients[patients['gender'] == 'F'])}\")"
      ]
    },
    {
      "cell_type": "markdown",
      "metadata": {
        "id": "P3zXGXwvadQd"
      },
      "source": [
        "## Statistics on note events\n",
        "\n",
        "Note: This dataset is large and requires a bit more RAM to fully load into memory."
      ]
    },
    {
      "cell_type": "code",
      "execution_count": 12,
      "metadata": {
        "id": "RPGLkgpYadQe"
      },
      "outputs": [],
      "source": [
        "# Set size and color for plots\n",
        "sns.reset_defaults()\n",
        "sns.set(\n",
        "    rc={'figure.figsize':(10,6)},\n",
        "    style=\"white\"\n",
        ")"
      ]
    },
    {
      "cell_type": "code",
      "execution_count": 13,
      "metadata": {
        "colab": {
          "base_uri": "https://localhost:8080/",
          "height": 206
        },
        "id": "Kq8GA3dgadQg",
        "outputId": "821c981f-1b79-4788-d06d-512ab9375cb3"
      },
      "outputs": [
        {
          "output_type": "execute_result",
          "data": {
            "text/plain": [
              "   Unnamed: 0  subject_id   chartdate                     category  \\\n",
              "0           0           0  01/01/2086                      Urology   \n",
              "1           1           0  01/01/2086       Emergency Room Reports   \n",
              "2           2           0  01/01/2086             General Medicine   \n",
              "3           3           0  01/01/2086             General Medicine   \n",
              "4           4           0  01/01/2086   Consult - History and Phy.   \n",
              "\n",
              "                                                text  \n",
              "0  CHIEF COMPLAINT: , Blood in urine.,HISTORY OF ...  \n",
              "1  CHIEF COMPLAINT: , Blood in urine.,HISTORY OF ...  \n",
              "2  CHIEF COMPLAINT: , Blood in urine.,HISTORY OF ...  \n",
              "3  CHIEF COMPLAINT:,  Followup on hypertension an...  \n",
              "4  CHIEF COMPLAINT: , Blood in urine.,HISTORY OF ...  "
            ],
            "text/html": [
              "\n",
              "  <div id=\"df-4a7acc75-352e-40f6-8b59-259581c66928\" class=\"colab-df-container\">\n",
              "    <div>\n",
              "<style scoped>\n",
              "    .dataframe tbody tr th:only-of-type {\n",
              "        vertical-align: middle;\n",
              "    }\n",
              "\n",
              "    .dataframe tbody tr th {\n",
              "        vertical-align: top;\n",
              "    }\n",
              "\n",
              "    .dataframe thead th {\n",
              "        text-align: right;\n",
              "    }\n",
              "</style>\n",
              "<table border=\"1\" class=\"dataframe\">\n",
              "  <thead>\n",
              "    <tr style=\"text-align: right;\">\n",
              "      <th></th>\n",
              "      <th>Unnamed: 0</th>\n",
              "      <th>subject_id</th>\n",
              "      <th>chartdate</th>\n",
              "      <th>category</th>\n",
              "      <th>text</th>\n",
              "    </tr>\n",
              "  </thead>\n",
              "  <tbody>\n",
              "    <tr>\n",
              "      <th>0</th>\n",
              "      <td>0</td>\n",
              "      <td>0</td>\n",
              "      <td>01/01/2086</td>\n",
              "      <td>Urology</td>\n",
              "      <td>CHIEF COMPLAINT: , Blood in urine.,HISTORY OF ...</td>\n",
              "    </tr>\n",
              "    <tr>\n",
              "      <th>1</th>\n",
              "      <td>1</td>\n",
              "      <td>0</td>\n",
              "      <td>01/01/2086</td>\n",
              "      <td>Emergency Room Reports</td>\n",
              "      <td>CHIEF COMPLAINT: , Blood in urine.,HISTORY OF ...</td>\n",
              "    </tr>\n",
              "    <tr>\n",
              "      <th>2</th>\n",
              "      <td>2</td>\n",
              "      <td>0</td>\n",
              "      <td>01/01/2086</td>\n",
              "      <td>General Medicine</td>\n",
              "      <td>CHIEF COMPLAINT: , Blood in urine.,HISTORY OF ...</td>\n",
              "    </tr>\n",
              "    <tr>\n",
              "      <th>3</th>\n",
              "      <td>3</td>\n",
              "      <td>0</td>\n",
              "      <td>01/01/2086</td>\n",
              "      <td>General Medicine</td>\n",
              "      <td>CHIEF COMPLAINT:,  Followup on hypertension an...</td>\n",
              "    </tr>\n",
              "    <tr>\n",
              "      <th>4</th>\n",
              "      <td>4</td>\n",
              "      <td>0</td>\n",
              "      <td>01/01/2086</td>\n",
              "      <td>Consult - History and Phy.</td>\n",
              "      <td>CHIEF COMPLAINT: , Blood in urine.,HISTORY OF ...</td>\n",
              "    </tr>\n",
              "  </tbody>\n",
              "</table>\n",
              "</div>\n",
              "    <div class=\"colab-df-buttons\">\n",
              "\n",
              "  <div class=\"colab-df-container\">\n",
              "    <button class=\"colab-df-convert\" onclick=\"convertToInteractive('df-4a7acc75-352e-40f6-8b59-259581c66928')\"\n",
              "            title=\"Convert this dataframe to an interactive table.\"\n",
              "            style=\"display:none;\">\n",
              "\n",
              "  <svg xmlns=\"http://www.w3.org/2000/svg\" height=\"24px\" viewBox=\"0 -960 960 960\">\n",
              "    <path d=\"M120-120v-720h720v720H120Zm60-500h600v-160H180v160Zm220 220h160v-160H400v160Zm0 220h160v-160H400v160ZM180-400h160v-160H180v160Zm440 0h160v-160H620v160ZM180-180h160v-160H180v160Zm440 0h160v-160H620v160Z\"/>\n",
              "  </svg>\n",
              "    </button>\n",
              "\n",
              "  <style>\n",
              "    .colab-df-container {\n",
              "      display:flex;\n",
              "      gap: 12px;\n",
              "    }\n",
              "\n",
              "    .colab-df-convert {\n",
              "      background-color: #E8F0FE;\n",
              "      border: none;\n",
              "      border-radius: 50%;\n",
              "      cursor: pointer;\n",
              "      display: none;\n",
              "      fill: #1967D2;\n",
              "      height: 32px;\n",
              "      padding: 0 0 0 0;\n",
              "      width: 32px;\n",
              "    }\n",
              "\n",
              "    .colab-df-convert:hover {\n",
              "      background-color: #E2EBFA;\n",
              "      box-shadow: 0px 1px 2px rgba(60, 64, 67, 0.3), 0px 1px 3px 1px rgba(60, 64, 67, 0.15);\n",
              "      fill: #174EA6;\n",
              "    }\n",
              "\n",
              "    .colab-df-buttons div {\n",
              "      margin-bottom: 4px;\n",
              "    }\n",
              "\n",
              "    [theme=dark] .colab-df-convert {\n",
              "      background-color: #3B4455;\n",
              "      fill: #D2E3FC;\n",
              "    }\n",
              "\n",
              "    [theme=dark] .colab-df-convert:hover {\n",
              "      background-color: #434B5C;\n",
              "      box-shadow: 0px 1px 3px 1px rgba(0, 0, 0, 0.15);\n",
              "      filter: drop-shadow(0px 1px 2px rgba(0, 0, 0, 0.3));\n",
              "      fill: #FFFFFF;\n",
              "    }\n",
              "  </style>\n",
              "\n",
              "    <script>\n",
              "      const buttonEl =\n",
              "        document.querySelector('#df-4a7acc75-352e-40f6-8b59-259581c66928 button.colab-df-convert');\n",
              "      buttonEl.style.display =\n",
              "        google.colab.kernel.accessAllowed ? 'block' : 'none';\n",
              "\n",
              "      async function convertToInteractive(key) {\n",
              "        const element = document.querySelector('#df-4a7acc75-352e-40f6-8b59-259581c66928');\n",
              "        const dataTable =\n",
              "          await google.colab.kernel.invokeFunction('convertToInteractive',\n",
              "                                                    [key], {});\n",
              "        if (!dataTable) return;\n",
              "\n",
              "        const docLinkHtml = 'Like what you see? Visit the ' +\n",
              "          '<a target=\"_blank\" href=https://colab.research.google.com/notebooks/data_table.ipynb>data table notebook</a>'\n",
              "          + ' to learn more about interactive tables.';\n",
              "        element.innerHTML = '';\n",
              "        dataTable['output_type'] = 'display_data';\n",
              "        await google.colab.output.renderOutput(dataTable, element);\n",
              "        const docLink = document.createElement('div');\n",
              "        docLink.innerHTML = docLinkHtml;\n",
              "        element.appendChild(docLink);\n",
              "      }\n",
              "    </script>\n",
              "  </div>\n",
              "\n",
              "\n",
              "<div id=\"df-278e3bc4-2b3e-4702-ae49-2090bb67c722\">\n",
              "  <button class=\"colab-df-quickchart\" onclick=\"quickchart('df-278e3bc4-2b3e-4702-ae49-2090bb67c722')\"\n",
              "            title=\"Suggest charts\"\n",
              "            style=\"display:none;\">\n",
              "\n",
              "<svg xmlns=\"http://www.w3.org/2000/svg\" height=\"24px\"viewBox=\"0 0 24 24\"\n",
              "     width=\"24px\">\n",
              "    <g>\n",
              "        <path d=\"M19 3H5c-1.1 0-2 .9-2 2v14c0 1.1.9 2 2 2h14c1.1 0 2-.9 2-2V5c0-1.1-.9-2-2-2zM9 17H7v-7h2v7zm4 0h-2V7h2v10zm4 0h-2v-4h2v4z\"/>\n",
              "    </g>\n",
              "</svg>\n",
              "  </button>\n",
              "\n",
              "<style>\n",
              "  .colab-df-quickchart {\n",
              "      --bg-color: #E8F0FE;\n",
              "      --fill-color: #1967D2;\n",
              "      --hover-bg-color: #E2EBFA;\n",
              "      --hover-fill-color: #174EA6;\n",
              "      --disabled-fill-color: #AAA;\n",
              "      --disabled-bg-color: #DDD;\n",
              "  }\n",
              "\n",
              "  [theme=dark] .colab-df-quickchart {\n",
              "      --bg-color: #3B4455;\n",
              "      --fill-color: #D2E3FC;\n",
              "      --hover-bg-color: #434B5C;\n",
              "      --hover-fill-color: #FFFFFF;\n",
              "      --disabled-bg-color: #3B4455;\n",
              "      --disabled-fill-color: #666;\n",
              "  }\n",
              "\n",
              "  .colab-df-quickchart {\n",
              "    background-color: var(--bg-color);\n",
              "    border: none;\n",
              "    border-radius: 50%;\n",
              "    cursor: pointer;\n",
              "    display: none;\n",
              "    fill: var(--fill-color);\n",
              "    height: 32px;\n",
              "    padding: 0;\n",
              "    width: 32px;\n",
              "  }\n",
              "\n",
              "  .colab-df-quickchart:hover {\n",
              "    background-color: var(--hover-bg-color);\n",
              "    box-shadow: 0 1px 2px rgba(60, 64, 67, 0.3), 0 1px 3px 1px rgba(60, 64, 67, 0.15);\n",
              "    fill: var(--button-hover-fill-color);\n",
              "  }\n",
              "\n",
              "  .colab-df-quickchart-complete:disabled,\n",
              "  .colab-df-quickchart-complete:disabled:hover {\n",
              "    background-color: var(--disabled-bg-color);\n",
              "    fill: var(--disabled-fill-color);\n",
              "    box-shadow: none;\n",
              "  }\n",
              "\n",
              "  .colab-df-spinner {\n",
              "    border: 2px solid var(--fill-color);\n",
              "    border-color: transparent;\n",
              "    border-bottom-color: var(--fill-color);\n",
              "    animation:\n",
              "      spin 1s steps(1) infinite;\n",
              "  }\n",
              "\n",
              "  @keyframes spin {\n",
              "    0% {\n",
              "      border-color: transparent;\n",
              "      border-bottom-color: var(--fill-color);\n",
              "      border-left-color: var(--fill-color);\n",
              "    }\n",
              "    20% {\n",
              "      border-color: transparent;\n",
              "      border-left-color: var(--fill-color);\n",
              "      border-top-color: var(--fill-color);\n",
              "    }\n",
              "    30% {\n",
              "      border-color: transparent;\n",
              "      border-left-color: var(--fill-color);\n",
              "      border-top-color: var(--fill-color);\n",
              "      border-right-color: var(--fill-color);\n",
              "    }\n",
              "    40% {\n",
              "      border-color: transparent;\n",
              "      border-right-color: var(--fill-color);\n",
              "      border-top-color: var(--fill-color);\n",
              "    }\n",
              "    60% {\n",
              "      border-color: transparent;\n",
              "      border-right-color: var(--fill-color);\n",
              "    }\n",
              "    80% {\n",
              "      border-color: transparent;\n",
              "      border-right-color: var(--fill-color);\n",
              "      border-bottom-color: var(--fill-color);\n",
              "    }\n",
              "    90% {\n",
              "      border-color: transparent;\n",
              "      border-bottom-color: var(--fill-color);\n",
              "    }\n",
              "  }\n",
              "</style>\n",
              "\n",
              "  <script>\n",
              "    async function quickchart(key) {\n",
              "      const quickchartButtonEl =\n",
              "        document.querySelector('#' + key + ' button');\n",
              "      quickchartButtonEl.disabled = true;  // To prevent multiple clicks.\n",
              "      quickchartButtonEl.classList.add('colab-df-spinner');\n",
              "      try {\n",
              "        const charts = await google.colab.kernel.invokeFunction(\n",
              "            'suggestCharts', [key], {});\n",
              "      } catch (error) {\n",
              "        console.error('Error during call to suggestCharts:', error);\n",
              "      }\n",
              "      quickchartButtonEl.classList.remove('colab-df-spinner');\n",
              "      quickchartButtonEl.classList.add('colab-df-quickchart-complete');\n",
              "    }\n",
              "    (() => {\n",
              "      let quickchartButtonEl =\n",
              "        document.querySelector('#df-278e3bc4-2b3e-4702-ae49-2090bb67c722 button');\n",
              "      quickchartButtonEl.style.display =\n",
              "        google.colab.kernel.accessAllowed ? 'block' : 'none';\n",
              "    })();\n",
              "  </script>\n",
              "</div>\n",
              "\n",
              "    </div>\n",
              "  </div>\n"
            ],
            "application/vnd.google.colaboratory.intrinsic+json": {
              "type": "dataframe",
              "variable_name": "noteevents",
              "summary": "{\n  \"name\": \"noteevents\",\n  \"rows\": 2130,\n  \"fields\": [\n    {\n      \"column\": \"Unnamed: 0\",\n      \"properties\": {\n        \"dtype\": \"number\",\n        \"std\": 615,\n        \"min\": 0,\n        \"max\": 2129,\n        \"num_unique_values\": 2130,\n        \"samples\": [\n          282,\n          2007,\n          1712\n        ],\n        \"semantic_type\": \"\",\n        \"description\": \"\"\n      }\n    },\n    {\n      \"column\": \"subject_id\",\n      \"properties\": {\n        \"dtype\": \"number\",\n        \"std\": 88,\n        \"min\": 0,\n        \"max\": 298,\n        \"num_unique_values\": 288,\n        \"samples\": [\n          48,\n          162,\n          265\n        ],\n        \"semantic_type\": \"\",\n        \"description\": \"\"\n      }\n    },\n    {\n      \"column\": \"chartdate\",\n      \"properties\": {\n        \"dtype\": \"object\",\n        \"num_unique_values\": 64,\n        \"samples\": [\n          \"01/01/2057\",\n          \"01/01/2028\",\n          \"01/01/2086\"\n        ],\n        \"semantic_type\": \"\",\n        \"description\": \"\"\n      }\n    },\n    {\n      \"column\": \"category\",\n      \"properties\": {\n        \"dtype\": \"category\",\n        \"num_unique_values\": 36,\n        \"samples\": [\n          \" Cosmetic / Plastic Surgery\",\n          \" SOAP / Chart / Progress Notes\",\n          \" Bariatrics\"\n        ],\n        \"semantic_type\": \"\",\n        \"description\": \"\"\n      }\n    },\n    {\n      \"column\": \"text\",\n      \"properties\": {\n        \"dtype\": \"category\",\n        \"num_unique_values\": 260,\n        \"samples\": [\n          \"DIAGNOSIS:,  Synovitis/anterior cruciate ligament tear of the left knee.,HISTORY: , The patient is a 52-year-old male, who was referred to Physical Therapy, secondary to left knee pain.  The patient states that on 10/02/08, the patient fell in a grocery store.  He reports slipping on a grape that was on the floor.  The patient states he went to the emergency room and then followed up with his primary care physician.  The patient was then ultimately referred to Physical Therapy.  After receiving a knee brace, history and information was received through a translator as the patient is Spanish speaking only.,PAST MEDICAL HISTORY: , Past medical history is unremarkable.,MEDICAL IMAGING: , Medical imaging is significant for x-rays and MRIs.  The report was available at the time of the evaluation.  The patient reports abnormal posterior horn of medial meniscus consistent with knee degenerative change and possibly tears.,MEDICATIONS:,1.  Tramadol.,2.  Diclofenac.,3.  Advil.,4.  Tylenol.,SUBJECTIVE: , The patient rates his pain at 6/10 on the Pain Analog Scale, primarily with ambulation.  The patient does deny pain at night.  The patient does present with his knee brace on the exterior of his __________ leg and appears to be on backboard.,FUNCTIONAL ACTIVITIES AND HOBBIES:  ,Functional activities and hobbies that are currently limited include any work as the patient is currently unemployed and is looking for a job; however, his primary skills are of a laborer and a street broker for new homes.,OBJECTIVE:  ,Upon observation, the patient is ambulating with a significant antalgic gait pattern.  However, he is not using any assistive device.  The knee brace was corrected and the patient and his wife demonstrated understanding and knowledge of how to place the knee brace on correctly.,ACTIVE RANGE OF MOTION: , Active range of motion of the left knee is 0 to 105 degrees with pain during range of motion.  Right knee active range of motion is 0 to 126 degrees.,STRENGTH:  ,Strength is 3/5 for left knee, 4+/5 for right knee.  The patient denies any pain upon light and deep palpation at the knee joints.  There is no evidence of temperature change, increased swelling or any discoloration at the left knee joint.  The patient does not appear to have instability at this time with formal tests at the left knee joint.,SPECIAL TESTS:  ,The patient performed a six-minute walk test.  He was able to complete 600 feet; however, had to stop this test at approximately five minutes, secondary to significant increase in pain.,ASSESSMENT:,  The patient would benefit from skilled physical therapy intervention in order to address the following problem list:,1.  Increased pain.,2.  Decreased range of motion.,3.  Decreased strength.,4.  Decreased ability to perform functional activities and work tasks.,5.  Decreased ambulation tolerance.,SHORT-TERM GOALS TO BE COMPLETED IN THREE WEEKS:,1.  Patient will demonstrate independence with the home exercise program.,2.  Patient will report maximum pain of 2/10 on a Pain Analog Scale within a 24-hour period.,3.  The patient will demonstrate left knee active range of motion, 0 to 120 degrees, without significant increase in pain during motion.,4.  The patient will demonstrate 4/5 strength for the left knee.,5.  The patient will complete 800 feet in a six-minute walk test without significant increase in pain.,LONG-TERM GOALS TO BE COMPLETED IN SIX WEEKS:,1.  The patient will demonstrate bilateral knee active range of motion, 0 to 130 degrees.,2.  The patient will demonstrate 5/5 lower extremity strength bilaterally without significant increase in pain.,3.  Patient will complete 1000 feet in a six-minute walk test without increase in pain and tolerate full completion of the six minutes.,4.  The patient will improve confidence with ability to perform work activity, when the situation improves and resolves.,PROGNOSIS:  ,Prognosis is good for above-stated goals, with compliance to a home exercise program and treatment.,SESSION PLAN: , The patient to be seen two to three times a week for six weeks for the following:,1.  Therapeutic exercise with home exercise program.\",\n          \"HISTORY:  ,The patient is a 53-year-old male who was seen for evaluation at the request of Dr. X regarding recurrent jaw pain.  This patient has been having what he described as numbness and tingling along the jaw, teeth, and tongue.  This numbness has been present for approximately two months.  It seems to be there \\\"all the time.\\\"  He was seen by his dentist and after dental evaluation was noted to be \\\"okay.\\\"  He had been diagnosed with a throat infection about a week ago and is finishing a course of Avelox at this time.  He has been taking cough drops and trying to increase his fluids.  He has recently stopped tobacco.  He has been chewing tobacco for about 30 years.  Again, there is concern regarding the numbness he has been having.  He has had a loss of sensation of taste as well.  Numbness seems to be limited just to the left lateral tongue and the jaw region and extends from the angle of the jaw to the lip.  He does report he has had about a 20-pound of weight gain over the winter, but notes he has had this in the past just simply from decreased activity.  He has had no trauma to the face.  He does note a history of headaches.  These are occasional and he gets these within the neck area when they do flare up.  The headaches are noted to be less than one or two times per month.  The patient does note he has a history of anxiety disorder as well.  He has tried to eliminate his amount of tobacco and he is actually taking Nicorette gum at this time.  He denies any fever or chills.  He is not having any dental pain with biting down.  He has had no jaw popping and no trismus noted.  The patient is concerned regarding this numbness and presents today for further workup, evaluation, and treatment.,REVIEW OF SYSTEMS: , Other than those listed above were otherwise negative.,PAST SURGICAL HISTORY: , Pertinent for hernia repair.,FAMILY HISTORY: , Pertinent for hypertension.,CURRENT MEDICATIONS:,  Tylenol.  He is on Nicorette gum.,ALLERGIES:  ,He is allergic to codeine, unknown reaction.,SOCIAL HISTORY:  ,The patient is single, self-employed carpenter.  He chews tobacco or having chewing tobacco for 30 years, about half a can per day, but notes he has been recently off, and he does note occasional moderate alcohol use.,PHYSICAL EXAMINATION: , ,VITAL SIGNS:  Blood pressure is 138/82, pulse 64 and regular, temperature 98.3, and weight is 191 pounds.,GENERAL:  The patient is an alert, cooperative, obese, 53-year-old male with a normal-sounding voice and good memory.,HEAD & FACE:  Inspected with no scars, lesions or masses noted.  Sinuses palpated and are normal.  Salivary glands also palpated and are normal with no masses noted.  The patient also has full facial function.,CARDIOVASCULAR:  Heart regular rate and rhythm without murmur.,RESPIRATORY:  Lungs auscultated and noted to be clear to auscultation bilaterally with no wheezing or rubs and normal respiratory effort.,EYES:  Extraocular muscles were tested and within normal limits.,EARS:  Both ears, external ears are normal.  The ear canals are clean and dry.  The drums are intact and mobile.  He does have moderate tympanosclerosis noted, no erythema.  Weber exam is midline.  Hearing is grossly intact and normal.,NASAL:  Reveals a deviated nasal septum to the left, moderate, clear drainage, and no erythema.,ORAL:  Oral cavity is normal with good moisture.  Lips, teeth and gums are normal.  Evaluation of the oropharynx reveals normal mucosa, normal palates, and posterior oropharynx.  Examination of the larynx with a mirror reveals normal epiglottis, false and true vocal cords with good mobility of the cords.  The nasopharynx was briefly examined by mirror with normal appearing mucosa, posterior choanae and eustachian tubes.,NECK:  The neck was examined with normal appearance.  Trachea in the midline.  The thyroid was normal, nontender, with no palpable masses or adenopathy noted.,NEUROLOGIC:  He does have slightly decreased sensation to the left jaw.  He is able to feel pressure on touch.  This extends also on to the left lateral tongue and the left intrabuccal mucosa.,DERMATOLOGIC:  Evaluation reveals no masses or lesions.  Skin turgor is normal.,PROCEDURE: , A fiberoptic nasopharyngoscopy was also performed.  See separate operative report in chart.  This does reveal a moderately deviated nasal septum to the left, large inferior turbinates, no mass or neoplasm noted.,IMPRESSION:  ,1.  Persistent paresthesia of the left manual teeth and tongue, consider possible neoplasm within the mandible.,2.  History of tobacco use.,3.  Hypogeusia with loss of taste.,4.  Headaches.,5.  Xerostomia.,RECOMMENDATIONS:,  I have ordered a CT of the head.  This includes sinuses and mandible.  This is primarily to evaluate and make sure there is not a neoplasm as the source of this numbness that he has had.  On the mucosal surface, I do not see any evidence of malignancy and no visible or palpable masses were noted.  I did recommend he increase his fluid intake.  He is to remain off the tobacco.  I have scheduled a recheck with me in the next two to three weeks to make further recommendations at that time.\",\n          \"REASON FOR CONSULTATION:,  Newly diagnosed cholangiocarcinoma.,HISTORY OF PRESENT ILLNESS: , The patient is a very pleasant 77-year-old female who is noted to have an increase in her liver function tests on routine blood work in December 2009.  Ultrasound of the abdomen showed gallbladder sludge and gallbladder findings consistent with adenomyomatosis.  Common bile duct was noted to be 10 mm in size on that ultrasound.  She then underwent a CT scan of the abdomen in July 2010, which showed intrahepatic ductal dilatation with the common bile duct size being 12.7 mm.  She then underwent an MRI MRCP, which was notable for stricture of the distal common bile duct.  She was then referred to gastroenterology and underwent an ERCP.  On August 24, 2010, she underwent the endoscopic retrograde cholangiopancreatography.  She was noted to have a stricturing mass of the mid-to-proximal common bile duct consistent with cholangiocarcinoma.  A temporary biliary stent was placed across the biliary stricture.  Blood work was obtained during the hospitalization.  She was also noted to have an elevated CA99.  She comes in to clinic today for initial Medical Oncology consultation.  After she sees me this morning, she has a follow-up consultation with a surgeon.,PAST MEDICAL HISTORY:  ,Significant for hypertension and hyperlipidemia.  In July, she had eye surgery on her left eye for a muscle repair.  Other surgeries include left ankle surgery for a fractured ankle in 2000.,CURRENT MEDICATIONS: , Diovan 80/12.5 mg daily, Lipitor 10 mg daily, Lutein 20 mg daily, folic acid 0.8 mg daily and multivitamin daily.,ALLERGIES:  ,No known drug allergies.,FAMILY HISTORY: , Notable for heart disease.  She had three brothers that died of complications from open heart surgery.  Her parents and brothers all had hypertension.  Her younger brother died at the age of 18 of infection from a butcher's shop.  He was cutting Argentinean beef and contracted an infection and died within 24 hours.  She has one brother that is living who has angina and a sister who is 84 with dementia.  She has two adult sons who are in good health.,SOCIAL HISTORY: , The patient has been married to her second husband for the past ten years.  Her first husband died in 1995.  She does not have a smoking history and does not drink alcohol.,REVIEW OF SYSTEMS:  ,The patient reports a change in her bowels ever since she had the stent placed.  She has noted some weight loss, but she notes that that is due to not eating very well.  She has had some mild fatigue, but prior to her diagnosis she had absolutely no symptoms.  As mentioned above, she was noted to have abnormal alkaline phosphatase and total bilirubin, AST and ALT, which prompted the followup.  She has had some difficulty with her vision that has improved with her recent surgical procedure.  She denies any fevers, chills, night sweats.  She has had loose stools.  The rest of her review of systems is negative.,PHYSICAL EXAM:,VITALS:\"\n        ],\n        \"semantic_type\": \"\",\n        \"description\": \"\"\n      }\n    }\n  ]\n}"
            }
          },
          "metadata": {},
          "execution_count": 13
        }
      ],
      "source": [
        "noteevents = pd.read_csv(DATA_DIR + \"noteevents.csv\")\n",
        "noteevents.head()"
      ]
    },
    {
      "cell_type": "code",
      "execution_count": 14,
      "metadata": {
        "colab": {
          "base_uri": "https://localhost:8080/",
          "height": 458
        },
        "id": "mWO6GVLgut4H",
        "outputId": "a8165a10-e86a-419b-f18f-a2c232a598c6"
      },
      "outputs": [
        {
          "output_type": "execute_result",
          "data": {
            "text/plain": [
              "0                              Urology\n",
              "1               Emergency Room Reports\n",
              "2                     General Medicine\n",
              "3                     General Medicine\n",
              "4           Consult - History and Phy.\n",
              "                     ...              \n",
              "2125        Cardiovascular / Pulmonary\n",
              "2126           Obstetrics / Gynecology\n",
              "2127     SOAP / Chart / Progress Notes\n",
              "2128           Obstetrics / Gynecology\n",
              "2129                 Speech - Language\n",
              "Name: category, Length: 2130, dtype: object"
            ],
            "text/html": [
              "<div>\n",
              "<style scoped>\n",
              "    .dataframe tbody tr th:only-of-type {\n",
              "        vertical-align: middle;\n",
              "    }\n",
              "\n",
              "    .dataframe tbody tr th {\n",
              "        vertical-align: top;\n",
              "    }\n",
              "\n",
              "    .dataframe thead th {\n",
              "        text-align: right;\n",
              "    }\n",
              "</style>\n",
              "<table border=\"1\" class=\"dataframe\">\n",
              "  <thead>\n",
              "    <tr style=\"text-align: right;\">\n",
              "      <th></th>\n",
              "      <th>category</th>\n",
              "    </tr>\n",
              "  </thead>\n",
              "  <tbody>\n",
              "    <tr>\n",
              "      <th>0</th>\n",
              "      <td>Urology</td>\n",
              "    </tr>\n",
              "    <tr>\n",
              "      <th>1</th>\n",
              "      <td>Emergency Room Reports</td>\n",
              "    </tr>\n",
              "    <tr>\n",
              "      <th>2</th>\n",
              "      <td>General Medicine</td>\n",
              "    </tr>\n",
              "    <tr>\n",
              "      <th>3</th>\n",
              "      <td>General Medicine</td>\n",
              "    </tr>\n",
              "    <tr>\n",
              "      <th>4</th>\n",
              "      <td>Consult - History and Phy.</td>\n",
              "    </tr>\n",
              "    <tr>\n",
              "      <th>...</th>\n",
              "      <td>...</td>\n",
              "    </tr>\n",
              "    <tr>\n",
              "      <th>2125</th>\n",
              "      <td>Cardiovascular / Pulmonary</td>\n",
              "    </tr>\n",
              "    <tr>\n",
              "      <th>2126</th>\n",
              "      <td>Obstetrics / Gynecology</td>\n",
              "    </tr>\n",
              "    <tr>\n",
              "      <th>2127</th>\n",
              "      <td>SOAP / Chart / Progress Notes</td>\n",
              "    </tr>\n",
              "    <tr>\n",
              "      <th>2128</th>\n",
              "      <td>Obstetrics / Gynecology</td>\n",
              "    </tr>\n",
              "    <tr>\n",
              "      <th>2129</th>\n",
              "      <td>Speech - Language</td>\n",
              "    </tr>\n",
              "  </tbody>\n",
              "</table>\n",
              "<p>2130 rows × 1 columns</p>\n",
              "</div><br><label><b>dtype:</b> object</label>"
            ]
          },
          "metadata": {},
          "execution_count": 14
        }
      ],
      "source": [
        "noteevents.category"
      ]
    },
    {
      "cell_type": "code",
      "execution_count": 15,
      "metadata": {
        "colab": {
          "base_uri": "https://localhost:8080/"
        },
        "id": "znwaer7uVr8n",
        "outputId": "17903ef0-7ee5-4a0a-f5f2-f32c56e1aba5"
      },
      "outputs": [
        {
          "output_type": "stream",
          "name": "stdout",
          "text": [
            "CHIEF COMPLAINT: , Blood in urine.,HISTORY OF PRESENT ILLNESS:  ,This is a 78-year-old male who has prostate cancer with metastatic disease to his bladder and in several locations throughout the skeletal system including the spine and shoulder.  The patient has had problems with hematuria in the past, but the patient noted that this episode began yesterday, and today he has been passing principally blood with very little urine.  The patient states that there is no change in his chronic lower back pain and denies any incontinence of urine or stool.  The patient has not had any fever.  There is no abdominal pain and the patient is still able to pass urine.  The patient has not had any melena or hematochezia.  There is no nausea or vomiting.  The patient has already completed chemotherapy and is beyond treatment for his cancer at this time.  The patient is receiving radiation therapy, but it is targeted to the bones and intended to give symptomatic relief of his skeletal pain and not intended to treat and cure the cancer.  The patient is not enlisted in hospice, but the principle around the patient's current treatment management is focusing on comfort care measures.,REVIEW OF SYSTEMS: , CONSTITUTIONAL:  No fever or chills.  The patient does report generalized fatigue and weakness over the past several days.  HEENT:  No headache, no neck pain, no rhinorrhea, no sore throat.  CARDIOVASCULAR:  No chest pain.  RESPIRATIONS:  No shortness of breath or cough, although the patient does get easily winded with exertion over these past few days.  GASTROINTESTINAL:  The patient denies any abdominal pain.  No nausea or vomiting.  No changes in the bowel movement.  No melena or hematochezia.  GENITOURINARY:  A gross hematuria since yesterday as previously described.  The patient is still able to pass urine without difficulty.  The patient denies any groin pain.  The patient denies any other changes to the genital region.  MUSCULOSKELETAL:  The chronic lower back pain which has not changed over these past few days.  The patient does have multiple other joints, which cause him discomfort, but there have been no recent changes in these either.  SKIN:  No rashes or lesions.  No easy bruising.  NEUROLOGIC:  No focal weakness or numbness.  No incontinence of urine or stool.  No saddle paresthesia.  No dizziness, syncope or near-syncope.  ENDOCRINE:  No polyuria or polydipsia.  No heat or cold intolerance.  HEMATOLOGIC/LYMPHATIC:  The patient does not have a history of easy bruising or bleeding, but the patient has had previous episodes of hematuria.,PAST MEDICAL HISTORY: , Prostate cancer with metastatic disease as previously described.,PAST SURGICAL HISTORY: , TURP.,CURRENT MEDICATIONS:,  Morphine, Darvocet, Flomax, Avodart and ibuprofen.,ALLERGIES: , VICODIN.,SOCIAL HISTORY: , The patient is a nonsmoker.  Denies any alcohol or illicit drug use.  The patient does live with his family.,PHYSICAL EXAMINATION: , VITAL SIGNS:  Temperature is 98.8 oral, blood pressure is 108/65, pulse is 109, respirations 16, oxygen saturation is 97% on room air and interpreted as normal.  CONSTITUTIONAL:  The patient is well nourished, well developed.  The patient appears to be pale, but otherwise looks well.  The patient is calm, comfortable.  The patient is pleasant and cooperative.  HEENT:  Eyes normal with clear conjunctivae and corneas.  Nose is normal without rhinorrhea or audible congestion.  Mouth and oropharynx normal without any sign of infection.  Mucous membranes are moist.  NECK:  Supple.  Full range of motion.  No JVD.  CARDIOVASCULAR:  Heart is mildly tachycardic with regular rhythm without murmur, rub or gallop.  Peripheral pulses are +2.  RESPIRATIONS:  Clear to auscultation bilaterally.  No shortness of breath.  No wheezes, rales or rhonchi.  Good air movement bilaterally.  GASTROINTESTINAL:  Abdomen is soft, nontender, nondistended.  No rebound or guarding.  No hepatosplenomegaly.  Normal bowel sounds.  No bruit.  No masses or pulsatile masses.  GENITOURINARY:  The patient has normal male genitalia, uncircumcised.  There is no active bleeding from the penis at this time.  There is no swelling of the testicles.  There are no masses palpated to the testicles, scrotum or the penis.  There are no lesions or rashes noted.  There is no inguinal lymphadenopathy.  Normal male exam.  MUSCULOSKELETAL:  Back is normal and nontender.  There are no abnormalities noted to the arms or legs.  The patient has normal use of the extremities.  SKIN:  The patient appears to be pale, but otherwise the skin is normal.  There are no rashes or lesions.  NEUROLOGIC:  Motor and sensory are intact to the extremities.  The patient has normal speech.  PSYCHIATRIC:  The patient is alert and oriented x4.  Normal mood and affect.  HEMATOLOGIC/LYMPHATIC:  There is no evidence of bruising noted to the body.  No lymphadenitis is palpated.,EMERGENCY DEPARTMENT TESTING:,  CBC was done, which had a hemoglobin of 7.7 and hematocrit of 22.6.  Neutrophils were 81%.  The RDW was 18.5, and the rest of the values were all within normal limits and unremarkable.  Chemistry had a sodium of 134, a glucose of 132, calcium is 8.2, and rest of the values are unremarkable.  Alkaline phosphatase was 770 and albumin was 2.4.  Rest of the values all are within normal limits of the LFTs.  Urinalysis was grossly bloody with a large amount of blood and greater than 50 rbc's.  The patient also had greater than 300 of the protein reading, moderate leukocytes, 30-50 white blood cells, but no bacteria were seen.  Coagulation profile study had a PT of 15.9, PTT of 43 and INR of 1.3.,EMERGENCY DEPARTMENT COURSE: , The patient was given normal saline 2 liters over 1 hour without any adverse effect.  The patient was given multiple doses of morphine to maintain his comfort while here in the emergency room without any adverse effect.  The patient was given Levaquin 500 mg by mouth as well as 2 doses of Phenergan over the course of his stay here in the emergency department.  The patient did not have an adverse reaction to these medicines either.  Phenergan resolved his nausea and morphine did relieve his pain and make him pain free.  I spoke with Dr. X, the patient's urologist, about most appropriate step for the patient, and Dr. X said he would be happy to care for the patient in the hospital and do urologic scopes if necessary and surgery if necessary and blood transfusion.  It was all a matter of what the patient wished to do given the advanced stage of his cancer.  Dr. X was willing to assist in any way the patient wished him to.  I spoke with the patient and his son about what he would like to do and what the options were from doing nothing from keeping him comfortable with pain medicines to admitting him to the hospital with the possibility of scopes and even surgery being done as well as the blood transfusion.  The patient decided to choose a middle ground in which he would be transfused with 2 units of blood here in the emergency room and go home tonight.  The patient's son felt comfortable with his father's choice.  This was done.  The patient was transfused 2 units of packed red blood cells after appropriately typed and match.  The patient did not have any adverse reaction at any point with his transfusion.  There was no fever, no shortness of breath, and at the time of disposition, the patient stated he felt a little better and felt like he had a little more strength.  Over the course of the patient's several-hour stay in the emergency room, the patient did end up developing enough problems with clotted blood in his bladder that he had a urinary obstruction.  Foley catheter was placed, which produced bloody urine and relieved the developing discomfort of a full bladder.  The patient was given a leg bag and the Foley catheter was left in place.,DIAGNOSES,1.  HEMATURIA.,2.  PROSTATE CANCER WITH BONE AND BLADDER METASTATIC DISEASE.,3.  SIGNIFICANT ANEMIA.,4.  URINARY OBSTRUCTION.,CONDITION ON DISPOSITION:  ,Fair, but improved.,DISPOSITION: , To home with his son.,PLAN: , We will have the patient follow up with Dr. X in his office in 2 days for reevaluation.  The patient was given a prescription for Levaquin and Phenergan tablets to take home with him tonight.  The patient was encouraged to drink extra water.  The patient was given discharge instructions on hematuria and asked to return to the emergency room should he have any worsening of his condition or develop any other problems or symptoms of concern.\n"
          ]
        }
      ],
      "source": [
        "# The column 'noteevents' contains the free text / unstructured text body of the document\n",
        "print(noteevents.text.iloc[0])"
      ]
    },
    {
      "cell_type": "code",
      "execution_count": 16,
      "metadata": {
        "id": "xcp2oEFDadQi"
      },
      "outputs": [],
      "source": [
        "noteevents_original = noteevents.copy()"
      ]
    },
    {
      "cell_type": "code",
      "execution_count": 17,
      "metadata": {
        "colab": {
          "base_uri": "https://localhost:8080/",
          "height": 741
        },
        "id": "5iPIqOOiadQl",
        "outputId": "8f64303a-803e-43f5-af93-b08b3b638b43"
      },
      "outputs": [
        {
          "output_type": "stream",
          "name": "stderr",
          "text": [
            "<ipython-input-17-b5912c08ddaf>:2: UserWarning: \n",
            "\n",
            "`distplot` is a deprecated function and will be removed in seaborn v0.14.0.\n",
            "\n",
            "Please adapt your code to use either `displot` (a figure-level function with\n",
            "similar flexibility) or `histplot` (an axes-level function for histograms).\n",
            "\n",
            "For a guide to updating your code to use the new functions, please see\n",
            "https://gist.github.com/mwaskom/de44147ed2974457ad6372750bbe5751\n",
            "\n",
            "  sns.distplot(lns, kde=False, axlabel='Document length')\n"
          ]
        },
        {
          "output_type": "display_data",
          "data": {
            "text/plain": [
              "<Figure size 1000x600 with 1 Axes>"
            ],
            "image/png": "[encoded data removed]"
          },
          "metadata": {}
        }
      ],
      "source": [
        "lns = noteevents.text.str.len().tolist()\n",
        "sns.distplot(lns, kde=False, axlabel='Document length')\n",
        "plt.show()"
      ]
    },
    {
      "cell_type": "code",
      "execution_count": 18,
      "metadata": {
        "colab": {
          "base_uri": "https://localhost:8080/",
          "height": 741
        },
        "id": "XHqZWgqoadQq",
        "outputId": "83aa1650-599d-40dc-b0ce-74211b92f976"
      },
      "outputs": [
        {
          "output_type": "stream",
          "name": "stderr",
          "text": [
            "<ipython-input-18-fffa27c63396>:8: UserWarning: \n",
            "\n",
            "`distplot` is a deprecated function and will be removed in seaborn v0.14.0.\n",
            "\n",
            "Please adapt your code to use either `displot` (a figure-level function with\n",
            "similar flexibility) or `histplot` (an axes-level function for histograms).\n",
            "\n",
            "For a guide to updating your code to use the new functions, please see\n",
            "https://gist.github.com/mwaskom/de44147ed2974457ad6372750bbe5751\n",
            "\n",
            "  sns.distplot(lns[rm_size:-rm_size], kde=False, axlabel='Document length')\n"
          ]
        },
        {
          "output_type": "display_data",
          "data": {
            "text/plain": [
              "<Figure size 1000x600 with 1 Axes>"
            ],
            "image/png": "[encoded data removed]"
          },
          "metadata": {}
        }
      ],
      "source": [
        "# Sort lengths\n",
        "lns = sorted(lns)\n",
        "\n",
        "# Take 5% as the removal size\n",
        "rm_size = int(len(lns) / 100) * 5\n",
        "\n",
        "# Now plot with removal of most/least frequent\n",
        "sns.distplot(lns[rm_size:-rm_size], kde=False, axlabel='Document length')\n",
        "plt.show()"
      ]
    },
    {
      "cell_type": "markdown",
      "metadata": {
        "id": "YVbE6NwUadQs"
      },
      "source": [
        "### Cleaning based on document length"
      ]
    },
    {
      "cell_type": "code",
      "execution_count": 19,
      "metadata": {
        "colab": {
          "base_uri": "https://localhost:8080/",
          "height": 206
        },
        "id": "KPMajqkmadQt",
        "outputId": "52bb2a98-a67a-44f7-ef36-1d6de9e617b5"
      },
      "outputs": [
        {
          "output_type": "execute_result",
          "data": {
            "text/plain": [
              "   Unnamed: 0  subject_id   chartdate                     category  \\\n",
              "3           3           0  01/01/2086             General Medicine   \n",
              "6           6           1  01/01/2079             General Medicine   \n",
              "7           7           1  01/01/2079                 Rheumatology   \n",
              "8           8           1  01/01/2079   Consult - History and Phy.   \n",
              "9           9           2  01/01/2037   Consult - History and Phy.   \n",
              "\n",
              "                                                text  \n",
              "3  CHIEF COMPLAINT:,  Followup on hypertension an...  \n",
              "6  HISTORY OF PRESENT ILLNESS:, The patient is a ...  \n",
              "7  HISTORY OF PRESENT ILLNESS: , A 71-year-old fe...  \n",
              "8  HISTORY OF PRESENT ILLNESS:, The patient is a ...  \n",
              "9  CHIEF COMPLAINT:,1.  Infection.,2.  Pelvic pai...  "
            ],
            "text/html": [
              "\n",
              "  <div id=\"df-ad623fbf-d10f-45a8-8af2-31fe682008f0\" class=\"colab-df-container\">\n",
              "    <div>\n",
              "<style scoped>\n",
              "    .dataframe tbody tr th:only-of-type {\n",
              "        vertical-align: middle;\n",
              "    }\n",
              "\n",
              "    .dataframe tbody tr th {\n",
              "        vertical-align: top;\n",
              "    }\n",
              "\n",
              "    .dataframe thead th {\n",
              "        text-align: right;\n",
              "    }\n",
              "</style>\n",
              "<table border=\"1\" class=\"dataframe\">\n",
              "  <thead>\n",
              "    <tr style=\"text-align: right;\">\n",
              "      <th></th>\n",
              "      <th>Unnamed: 0</th>\n",
              "      <th>subject_id</th>\n",
              "      <th>chartdate</th>\n",
              "      <th>category</th>\n",
              "      <th>text</th>\n",
              "    </tr>\n",
              "  </thead>\n",
              "  <tbody>\n",
              "    <tr>\n",
              "      <th>3</th>\n",
              "      <td>3</td>\n",
              "      <td>0</td>\n",
              "      <td>01/01/2086</td>\n",
              "      <td>General Medicine</td>\n",
              "      <td>CHIEF COMPLAINT:,  Followup on hypertension an...</td>\n",
              "    </tr>\n",
              "    <tr>\n",
              "      <th>6</th>\n",
              "      <td>6</td>\n",
              "      <td>1</td>\n",
              "      <td>01/01/2079</td>\n",
              "      <td>General Medicine</td>\n",
              "      <td>HISTORY OF PRESENT ILLNESS:, The patient is a ...</td>\n",
              "    </tr>\n",
              "    <tr>\n",
              "      <th>7</th>\n",
              "      <td>7</td>\n",
              "      <td>1</td>\n",
              "      <td>01/01/2079</td>\n",
              "      <td>Rheumatology</td>\n",
              "      <td>HISTORY OF PRESENT ILLNESS: , A 71-year-old fe...</td>\n",
              "    </tr>\n",
              "    <tr>\n",
              "      <th>8</th>\n",
              "      <td>8</td>\n",
              "      <td>1</td>\n",
              "      <td>01/01/2079</td>\n",
              "      <td>Consult - History and Phy.</td>\n",
              "      <td>HISTORY OF PRESENT ILLNESS:, The patient is a ...</td>\n",
              "    </tr>\n",
              "    <tr>\n",
              "      <th>9</th>\n",
              "      <td>9</td>\n",
              "      <td>2</td>\n",
              "      <td>01/01/2037</td>\n",
              "      <td>Consult - History and Phy.</td>\n",
              "      <td>CHIEF COMPLAINT:,1.  Infection.,2.  Pelvic pai...</td>\n",
              "    </tr>\n",
              "  </tbody>\n",
              "</table>\n",
              "</div>\n",
              "    <div class=\"colab-df-buttons\">\n",
              "\n",
              "  <div class=\"colab-df-container\">\n",
              "    <button class=\"colab-df-convert\" onclick=\"convertToInteractive('df-ad623fbf-d10f-45a8-8af2-31fe682008f0')\"\n",
              "            title=\"Convert this dataframe to an interactive table.\"\n",
              "            style=\"display:none;\">\n",
              "\n",
              "  <svg xmlns=\"http://www.w3.org/2000/svg\" height=\"24px\" viewBox=\"0 -960 960 960\">\n",
              "    <path d=\"M120-120v-720h720v720H120Zm60-500h600v-160H180v160Zm220 220h160v-160H400v160Zm0 220h160v-160H400v160ZM180-400h160v-160H180v160Zm440 0h160v-160H620v160ZM180-180h160v-160H180v160Zm440 0h160v-160H620v160Z\"/>\n",
              "  </svg>\n",
              "    </button>\n",
              "\n",
              "  <style>\n",
              "    .colab-df-container {\n",
              "      display:flex;\n",
              "      gap: 12px;\n",
              "    }\n",
              "\n",
              "    .colab-df-convert {\n",
              "      background-color: #E8F0FE;\n",
              "      border: none;\n",
              "      border-radius: 50%;\n",
              "      cursor: pointer;\n",
              "      display: none;\n",
              "      fill: #1967D2;\n",
              "      height: 32px;\n",
              "      padding: 0 0 0 0;\n",
              "      width: 32px;\n",
              "    }\n",
              "\n",
              "    .colab-df-convert:hover {\n",
              "      background-color: #E2EBFA;\n",
              "      box-shadow: 0px 1px 2px rgba(60, 64, 67, 0.3), 0px 1px 3px 1px rgba(60, 64, 67, 0.15);\n",
              "      fill: #174EA6;\n",
              "    }\n",
              "\n",
              "    .colab-df-buttons div {\n",
              "      margin-bottom: 4px;\n",
              "    }\n",
              "\n",
              "    [theme=dark] .colab-df-convert {\n",
              "      background-color: #3B4455;\n",
              "      fill: #D2E3FC;\n",
              "    }\n",
              "\n",
              "    [theme=dark] .colab-df-convert:hover {\n",
              "      background-color: #434B5C;\n",
              "      box-shadow: 0px 1px 3px 1px rgba(0, 0, 0, 0.15);\n",
              "      filter: drop-shadow(0px 1px 2px rgba(0, 0, 0, 0.3));\n",
              "      fill: #FFFFFF;\n",
              "    }\n",
              "  </style>\n",
              "\n",
              "    <script>\n",
              "      const buttonEl =\n",
              "        document.querySelector('#df-ad623fbf-d10f-45a8-8af2-31fe682008f0 button.colab-df-convert');\n",
              "      buttonEl.style.display =\n",
              "        google.colab.kernel.accessAllowed ? 'block' : 'none';\n",
              "\n",
              "      async function convertToInteractive(key) {\n",
              "        const element = document.querySelector('#df-ad623fbf-d10f-45a8-8af2-31fe682008f0');\n",
              "        const dataTable =\n",
              "          await google.colab.kernel.invokeFunction('convertToInteractive',\n",
              "                                                    [key], {});\n",
              "        if (!dataTable) return;\n",
              "\n",
              "        const docLinkHtml = 'Like what you see? Visit the ' +\n",
              "          '<a target=\"_blank\" href=https://colab.research.google.com/notebooks/data_table.ipynb>data table notebook</a>'\n",
              "          + ' to learn more about interactive tables.';\n",
              "        element.innerHTML = '';\n",
              "        dataTable['output_type'] = 'display_data';\n",
              "        await google.colab.output.renderOutput(dataTable, element);\n",
              "        const docLink = document.createElement('div');\n",
              "        docLink.innerHTML = docLinkHtml;\n",
              "        element.appendChild(docLink);\n",
              "      }\n",
              "    </script>\n",
              "  </div>\n",
              "\n",
              "\n",
              "<div id=\"df-31492937-0146-402d-812e-1f4068a0ff2b\">\n",
              "  <button class=\"colab-df-quickchart\" onclick=\"quickchart('df-31492937-0146-402d-812e-1f4068a0ff2b')\"\n",
              "            title=\"Suggest charts\"\n",
              "            style=\"display:none;\">\n",
              "\n",
              "<svg xmlns=\"http://www.w3.org/2000/svg\" height=\"24px\"viewBox=\"0 0 24 24\"\n",
              "     width=\"24px\">\n",
              "    <g>\n",
              "        <path d=\"M19 3H5c-1.1 0-2 .9-2 2v14c0 1.1.9 2 2 2h14c1.1 0 2-.9 2-2V5c0-1.1-.9-2-2-2zM9 17H7v-7h2v7zm4 0h-2V7h2v10zm4 0h-2v-4h2v4z\"/>\n",
              "    </g>\n",
              "</svg>\n",
              "  </button>\n",
              "\n",
              "<style>\n",
              "  .colab-df-quickchart {\n",
              "      --bg-color: #E8F0FE;\n",
              "      --fill-color: #1967D2;\n",
              "      --hover-bg-color: #E2EBFA;\n",
              "      --hover-fill-color: #174EA6;\n",
              "      --disabled-fill-color: #AAA;\n",
              "      --disabled-bg-color: #DDD;\n",
              "  }\n",
              "\n",
              "  [theme=dark] .colab-df-quickchart {\n",
              "      --bg-color: #3B4455;\n",
              "      --fill-color: #D2E3FC;\n",
              "      --hover-bg-color: #434B5C;\n",
              "      --hover-fill-color: #FFFFFF;\n",
              "      --disabled-bg-color: #3B4455;\n",
              "      --disabled-fill-color: #666;\n",
              "  }\n",
              "\n",
              "  .colab-df-quickchart {\n",
              "    background-color: var(--bg-color);\n",
              "    border: none;\n",
              "    border-radius: 50%;\n",
              "    cursor: pointer;\n",
              "    display: none;\n",
              "    fill: var(--fill-color);\n",
              "    height: 32px;\n",
              "    padding: 0;\n",
              "    width: 32px;\n",
              "  }\n",
              "\n",
              "  .colab-df-quickchart:hover {\n",
              "    background-color: var(--hover-bg-color);\n",
              "    box-shadow: 0 1px 2px rgba(60, 64, 67, 0.3), 0 1px 3px 1px rgba(60, 64, 67, 0.15);\n",
              "    fill: var(--button-hover-fill-color);\n",
              "  }\n",
              "\n",
              "  .colab-df-quickchart-complete:disabled,\n",
              "  .colab-df-quickchart-complete:disabled:hover {\n",
              "    background-color: var(--disabled-bg-color);\n",
              "    fill: var(--disabled-fill-color);\n",
              "    box-shadow: none;\n",
              "  }\n",
              "\n",
              "  .colab-df-spinner {\n",
              "    border: 2px solid var(--fill-color);\n",
              "    border-color: transparent;\n",
              "    border-bottom-color: var(--fill-color);\n",
              "    animation:\n",
              "      spin 1s steps(1) infinite;\n",
              "  }\n",
              "\n",
              "  @keyframes spin {\n",
              "    0% {\n",
              "      border-color: transparent;\n",
              "      border-bottom-color: var(--fill-color);\n",
              "      border-left-color: var(--fill-color);\n",
              "    }\n",
              "    20% {\n",
              "      border-color: transparent;\n",
              "      border-left-color: var(--fill-color);\n",
              "      border-top-color: var(--fill-color);\n",
              "    }\n",
              "    30% {\n",
              "      border-color: transparent;\n",
              "      border-left-color: var(--fill-color);\n",
              "      border-top-color: var(--fill-color);\n",
              "      border-right-color: var(--fill-color);\n",
              "    }\n",
              "    40% {\n",
              "      border-color: transparent;\n",
              "      border-right-color: var(--fill-color);\n",
              "      border-top-color: var(--fill-color);\n",
              "    }\n",
              "    60% {\n",
              "      border-color: transparent;\n",
              "      border-right-color: var(--fill-color);\n",
              "    }\n",
              "    80% {\n",
              "      border-color: transparent;\n",
              "      border-right-color: var(--fill-color);\n",
              "      border-bottom-color: var(--fill-color);\n",
              "    }\n",
              "    90% {\n",
              "      border-color: transparent;\n",
              "      border-bottom-color: var(--fill-color);\n",
              "    }\n",
              "  }\n",
              "</style>\n",
              "\n",
              "  <script>\n",
              "    async function quickchart(key) {\n",
              "      const quickchartButtonEl =\n",
              "        document.querySelector('#' + key + ' button');\n",
              "      quickchartButtonEl.disabled = true;  // To prevent multiple clicks.\n",
              "      quickchartButtonEl.classList.add('colab-df-spinner');\n",
              "      try {\n",
              "        const charts = await google.colab.kernel.invokeFunction(\n",
              "            'suggestCharts', [key], {});\n",
              "      } catch (error) {\n",
              "        console.error('Error during call to suggestCharts:', error);\n",
              "      }\n",
              "      quickchartButtonEl.classList.remove('colab-df-spinner');\n",
              "      quickchartButtonEl.classList.add('colab-df-quickchart-complete');\n",
              "    }\n",
              "    (() => {\n",
              "      let quickchartButtonEl =\n",
              "        document.querySelector('#df-31492937-0146-402d-812e-1f4068a0ff2b button');\n",
              "      quickchartButtonEl.style.display =\n",
              "        google.colab.kernel.accessAllowed ? 'block' : 'none';\n",
              "    })();\n",
              "  </script>\n",
              "</div>\n",
              "\n",
              "    </div>\n",
              "  </div>\n"
            ],
            "application/vnd.google.colaboratory.intrinsic+json": {
              "type": "dataframe",
              "variable_name": "noteevents",
              "repr_error": "0"
            }
          },
          "metadata": {},
          "execution_count": 19
        }
      ],
      "source": [
        "# Remove rows from the dataframe based on document length of top / bottom 5%.\n",
        "min_ln = max(lns[0:rm_size])\n",
        "max_ln = min(lns[-rm_size:])\n",
        "noteevents = noteevents[(noteevents.text.str.len() > min_ln) & (noteevents.text.str.len() < max_ln)]\n",
        "noteevents.head()"
      ]
    },
    {
      "cell_type": "code",
      "execution_count": 20,
      "metadata": {
        "colab": {
          "base_uri": "https://localhost:8080/"
        },
        "id": "MtRUapopadQv",
        "outputId": "e76689db-5726-4371-c626-9a73e8a635af"
      },
      "outputs": [
        {
          "output_type": "stream",
          "name": "stdout",
          "text": [
            "Length after cleaning : 1914\n",
            "Length of the original: 2130\n"
          ]
        }
      ],
      "source": [
        "print(f\"Length after cleaning : {len(noteevents)}\")\n",
        "print(f\"Length of the original: {len(noteevents_original)}\")"
      ]
    },
    {
      "cell_type": "markdown",
      "metadata": {
        "id": "8cs_CW5RadQx"
      },
      "source": [
        "## Number of documents per patient"
      ]
    },
    {
      "cell_type": "code",
      "execution_count": 21,
      "metadata": {
        "colab": {
          "base_uri": "https://localhost:8080/",
          "height": 741
        },
        "id": "4_2isvlvadQx",
        "outputId": "ca5ba248-46f4-46c0-87c1-d516394334ce"
      },
      "outputs": [
        {
          "output_type": "stream",
          "name": "stderr",
          "text": [
            "<ipython-input-21-40afa5a18b7d>:1: UserWarning: \n",
            "\n",
            "`distplot` is a deprecated function and will be removed in seaborn v0.14.0.\n",
            "\n",
            "Please adapt your code to use either `displot` (a figure-level function with\n",
            "similar flexibility) or `histplot` (an axes-level function for histograms).\n",
            "\n",
            "For a guide to updating your code to use the new functions, please see\n",
            "https://gist.github.com/mwaskom/de44147ed2974457ad6372750bbe5751\n",
            "\n",
            "  sns.distplot(noteevents['subject_id'].value_counts().values, kde=False, axlabel='Documents per patient')\n"
          ]
        },
        {
          "output_type": "display_data",
          "data": {
            "text/plain": [
              "<Figure size 1000x600 with 1 Axes>"
            ],
            "image/png": "[encoded data removed]"
          },
          "metadata": {}
        }
      ],
      "source": [
        "sns.distplot(noteevents['subject_id'].value_counts().values, kde=False, axlabel='Documents per patient')\n",
        "plt.show()"
      ]
    },
    {
      "cell_type": "code",
      "execution_count": 23,
      "metadata": {
        "colab": {
          "base_uri": "https://localhost:8080/",
          "height": 206
        },
        "id": "TZp9h_e-adQz",
        "outputId": "e0553c61-ec30-4ae1-eabf-f58f3d541b40"
      },
      "outputs": [
        {
          "output_type": "execute_result",
          "data": {
            "text/plain": [
              "    Unnamed: 0  subject_id   chartdate                     category  \\\n",
              "6            6           1  01/01/2079             General Medicine   \n",
              "7            7           1  01/01/2079                 Rheumatology   \n",
              "8            8           1  01/01/2079   Consult - History and Phy.   \n",
              "9            9           2  01/01/2037   Consult - History and Phy.   \n",
              "10          10           2  01/01/2037                  Dermatology   \n",
              "\n",
              "                                                 text  \n",
              "6   HISTORY OF PRESENT ILLNESS:, The patient is a ...  \n",
              "7   HISTORY OF PRESENT ILLNESS: , A 71-year-old fe...  \n",
              "8   HISTORY OF PRESENT ILLNESS:, The patient is a ...  \n",
              "9   CHIEF COMPLAINT:,1.  Infection.,2.  Pelvic pai...  \n",
              "10  SUBJECTIVE:,  This is a 29-year-old Vietnamese...  "
            ],
            "text/html": [
              "\n",
              "  <div id=\"df-662c728b-67a2-489d-8f34-6efad4d6ea89\" class=\"colab-df-container\">\n",
              "    <div>\n",
              "<style scoped>\n",
              "    .dataframe tbody tr th:only-of-type {\n",
              "        vertical-align: middle;\n",
              "    }\n",
              "\n",
              "    .dataframe tbody tr th {\n",
              "        vertical-align: top;\n",
              "    }\n",
              "\n",
              "    .dataframe thead th {\n",
              "        text-align: right;\n",
              "    }\n",
              "</style>\n",
              "<table border=\"1\" class=\"dataframe\">\n",
              "  <thead>\n",
              "    <tr style=\"text-align: right;\">\n",
              "      <th></th>\n",
              "      <th>Unnamed: 0</th>\n",
              "      <th>subject_id</th>\n",
              "      <th>chartdate</th>\n",
              "      <th>category</th>\n",
              "      <th>text</th>\n",
              "    </tr>\n",
              "  </thead>\n",
              "  <tbody>\n",
              "    <tr>\n",
              "      <th>6</th>\n",
              "      <td>6</td>\n",
              "      <td>1</td>\n",
              "      <td>01/01/2079</td>\n",
              "      <td>General Medicine</td>\n",
              "      <td>HISTORY OF PRESENT ILLNESS:, The patient is a ...</td>\n",
              "    </tr>\n",
              "    <tr>\n",
              "      <th>7</th>\n",
              "      <td>7</td>\n",
              "      <td>1</td>\n",
              "      <td>01/01/2079</td>\n",
              "      <td>Rheumatology</td>\n",
              "      <td>HISTORY OF PRESENT ILLNESS: , A 71-year-old fe...</td>\n",
              "    </tr>\n",
              "    <tr>\n",
              "      <th>8</th>\n",
              "      <td>8</td>\n",
              "      <td>1</td>\n",
              "      <td>01/01/2079</td>\n",
              "      <td>Consult - History and Phy.</td>\n",
              "      <td>HISTORY OF PRESENT ILLNESS:, The patient is a ...</td>\n",
              "    </tr>\n",
              "    <tr>\n",
              "      <th>9</th>\n",
              "      <td>9</td>\n",
              "      <td>2</td>\n",
              "      <td>01/01/2037</td>\n",
              "      <td>Consult - History and Phy.</td>\n",
              "      <td>CHIEF COMPLAINT:,1.  Infection.,2.  Pelvic pai...</td>\n",
              "    </tr>\n",
              "    <tr>\n",
              "      <th>10</th>\n",
              "      <td>10</td>\n",
              "      <td>2</td>\n",
              "      <td>01/01/2037</td>\n",
              "      <td>Dermatology</td>\n",
              "      <td>SUBJECTIVE:,  This is a 29-year-old Vietnamese...</td>\n",
              "    </tr>\n",
              "  </tbody>\n",
              "</table>\n",
              "</div>\n",
              "    <div class=\"colab-df-buttons\">\n",
              "\n",
              "  <div class=\"colab-df-container\">\n",
              "    <button class=\"colab-df-convert\" onclick=\"convertToInteractive('df-662c728b-67a2-489d-8f34-6efad4d6ea89')\"\n",
              "            title=\"Convert this dataframe to an interactive table.\"\n",
              "            style=\"display:none;\">\n",
              "\n",
              "  <svg xmlns=\"http://www.w3.org/2000/svg\" height=\"24px\" viewBox=\"0 -960 960 960\">\n",
              "    <path d=\"M120-120v-720h720v720H120Zm60-500h600v-160H180v160Zm220 220h160v-160H400v160Zm0 220h160v-160H400v160ZM180-400h160v-160H180v160Zm440 0h160v-160H620v160ZM180-180h160v-160H180v160Zm440 0h160v-160H620v160Z\"/>\n",
              "  </svg>\n",
              "    </button>\n",
              "\n",
              "  <style>\n",
              "    .colab-df-container {\n",
              "      display:flex;\n",
              "      gap: 12px;\n",
              "    }\n",
              "\n",
              "    .colab-df-convert {\n",
              "      background-color: #E8F0FE;\n",
              "      border: none;\n",
              "      border-radius: 50%;\n",
              "      cursor: pointer;\n",
              "      display: none;\n",
              "      fill: #1967D2;\n",
              "      height: 32px;\n",
              "      padding: 0 0 0 0;\n",
              "      width: 32px;\n",
              "    }\n",
              "\n",
              "    .colab-df-convert:hover {\n",
              "      background-color: #E2EBFA;\n",
              "      box-shadow: 0px 1px 2px rgba(60, 64, 67, 0.3), 0px 1px 3px 1px rgba(60, 64, 67, 0.15);\n",
              "      fill: #174EA6;\n",
              "    }\n",
              "\n",
              "    .colab-df-buttons div {\n",
              "      margin-bottom: 4px;\n",
              "    }\n",
              "\n",
              "    [theme=dark] .colab-df-convert {\n",
              "      background-color: #3B4455;\n",
              "      fill: #D2E3FC;\n",
              "    }\n",
              "\n",
              "    [theme=dark] .colab-df-convert:hover {\n",
              "      background-color: #434B5C;\n",
              "      box-shadow: 0px 1px 3px 1px rgba(0, 0, 0, 0.15);\n",
              "      filter: drop-shadow(0px 1px 2px rgba(0, 0, 0, 0.3));\n",
              "      fill: #FFFFFF;\n",
              "    }\n",
              "  </style>\n",
              "\n",
              "    <script>\n",
              "      const buttonEl =\n",
              "        document.querySelector('#df-662c728b-67a2-489d-8f34-6efad4d6ea89 button.colab-df-convert');\n",
              "      buttonEl.style.display =\n",
              "        google.colab.kernel.accessAllowed ? 'block' : 'none';\n",
              "\n",
              "      async function convertToInteractive(key) {\n",
              "        const element = document.querySelector('#df-662c728b-67a2-489d-8f34-6efad4d6ea89');\n",
              "        const dataTable =\n",
              "          await google.colab.kernel.invokeFunction('convertToInteractive',\n",
              "                                                    [key], {});\n",
              "        if (!dataTable) return;\n",
              "\n",
              "        const docLinkHtml = 'Like what you see? Visit the ' +\n",
              "          '<a target=\"_blank\" href=https://colab.research.google.com/notebooks/data_table.ipynb>data table notebook</a>'\n",
              "          + ' to learn more about interactive tables.';\n",
              "        element.innerHTML = '';\n",
              "        dataTable['output_type'] = 'display_data';\n",
              "        await google.colab.output.renderOutput(dataTable, element);\n",
              "        const docLink = document.createElement('div');\n",
              "        docLink.innerHTML = docLinkHtml;\n",
              "        element.appendChild(docLink);\n",
              "      }\n",
              "    </script>\n",
              "  </div>\n",
              "\n",
              "\n",
              "<div id=\"df-2a4bad23-e3a7-4d15-91ae-2def7c6077af\">\n",
              "  <button class=\"colab-df-quickchart\" onclick=\"quickchart('df-2a4bad23-e3a7-4d15-91ae-2def7c6077af')\"\n",
              "            title=\"Suggest charts\"\n",
              "            style=\"display:none;\">\n",
              "\n",
              "<svg xmlns=\"http://www.w3.org/2000/svg\" height=\"24px\"viewBox=\"0 0 24 24\"\n",
              "     width=\"24px\">\n",
              "    <g>\n",
              "        <path d=\"M19 3H5c-1.1 0-2 .9-2 2v14c0 1.1.9 2 2 2h14c1.1 0 2-.9 2-2V5c0-1.1-.9-2-2-2zM9 17H7v-7h2v7zm4 0h-2V7h2v10zm4 0h-2v-4h2v4z\"/>\n",
              "    </g>\n",
              "</svg>\n",
              "  </button>\n",
              "\n",
              "<style>\n",
              "  .colab-df-quickchart {\n",
              "      --bg-color: #E8F0FE;\n",
              "      --fill-color: #1967D2;\n",
              "      --hover-bg-color: #E2EBFA;\n",
              "      --hover-fill-color: #174EA6;\n",
              "      --disabled-fill-color: #AAA;\n",
              "      --disabled-bg-color: #DDD;\n",
              "  }\n",
              "\n",
              "  [theme=dark] .colab-df-quickchart {\n",
              "      --bg-color: #3B4455;\n",
              "      --fill-color: #D2E3FC;\n",
              "      --hover-bg-color: #434B5C;\n",
              "      --hover-fill-color: #FFFFFF;\n",
              "      --disabled-bg-color: #3B4455;\n",
              "      --disabled-fill-color: #666;\n",
              "  }\n",
              "\n",
              "  .colab-df-quickchart {\n",
              "    background-color: var(--bg-color);\n",
              "    border: none;\n",
              "    border-radius: 50%;\n",
              "    cursor: pointer;\n",
              "    display: none;\n",
              "    fill: var(--fill-color);\n",
              "    height: 32px;\n",
              "    padding: 0;\n",
              "    width: 32px;\n",
              "  }\n",
              "\n",
              "  .colab-df-quickchart:hover {\n",
              "    background-color: var(--hover-bg-color);\n",
              "    box-shadow: 0 1px 2px rgba(60, 64, 67, 0.3), 0 1px 3px 1px rgba(60, 64, 67, 0.15);\n",
              "    fill: var(--button-hover-fill-color);\n",
              "  }\n",
              "\n",
              "  .colab-df-quickchart-complete:disabled,\n",
              "  .colab-df-quickchart-complete:disabled:hover {\n",
              "    background-color: var(--disabled-bg-color);\n",
              "    fill: var(--disabled-fill-color);\n",
              "    box-shadow: none;\n",
              "  }\n",
              "\n",
              "  .colab-df-spinner {\n",
              "    border: 2px solid var(--fill-color);\n",
              "    border-color: transparent;\n",
              "    border-bottom-color: var(--fill-color);\n",
              "    animation:\n",
              "      spin 1s steps(1) infinite;\n",
              "  }\n",
              "\n",
              "  @keyframes spin {\n",
              "    0% {\n",
              "      border-color: transparent;\n",
              "      border-bottom-color: var(--fill-color);\n",
              "      border-left-color: var(--fill-color);\n",
              "    }\n",
              "    20% {\n",
              "      border-color: transparent;\n",
              "      border-left-color: var(--fill-color);\n",
              "      border-top-color: var(--fill-color);\n",
              "    }\n",
              "    30% {\n",
              "      border-color: transparent;\n",
              "      border-left-color: var(--fill-color);\n",
              "      border-top-color: var(--fill-color);\n",
              "      border-right-color: var(--fill-color);\n",
              "    }\n",
              "    40% {\n",
              "      border-color: transparent;\n",
              "      border-right-color: var(--fill-color);\n",
              "      border-top-color: var(--fill-color);\n",
              "    }\n",
              "    60% {\n",
              "      border-color: transparent;\n",
              "      border-right-color: var(--fill-color);\n",
              "    }\n",
              "    80% {\n",
              "      border-color: transparent;\n",
              "      border-right-color: var(--fill-color);\n",
              "      border-bottom-color: var(--fill-color);\n",
              "    }\n",
              "    90% {\n",
              "      border-color: transparent;\n",
              "      border-bottom-color: var(--fill-color);\n",
              "    }\n",
              "  }\n",
              "</style>\n",
              "\n",
              "  <script>\n",
              "    async function quickchart(key) {\n",
              "      const quickchartButtonEl =\n",
              "        document.querySelector('#' + key + ' button');\n",
              "      quickchartButtonEl.disabled = true;  // To prevent multiple clicks.\n",
              "      quickchartButtonEl.classList.add('colab-df-spinner');\n",
              "      try {\n",
              "        const charts = await google.colab.kernel.invokeFunction(\n",
              "            'suggestCharts', [key], {});\n",
              "      } catch (error) {\n",
              "        console.error('Error during call to suggestCharts:', error);\n",
              "      }\n",
              "      quickchartButtonEl.classList.remove('colab-df-spinner');\n",
              "      quickchartButtonEl.classList.add('colab-df-quickchart-complete');\n",
              "    }\n",
              "    (() => {\n",
              "      let quickchartButtonEl =\n",
              "        document.querySelector('#df-2a4bad23-e3a7-4d15-91ae-2def7c6077af button');\n",
              "      quickchartButtonEl.style.display =\n",
              "        google.colab.kernel.accessAllowed ? 'block' : 'none';\n",
              "    })();\n",
              "  </script>\n",
              "</div>\n",
              "\n",
              "    </div>\n",
              "  </div>\n"
            ],
            "application/vnd.google.colaboratory.intrinsic+json": {
              "type": "dataframe",
              "variable_name": "noteevents",
              "repr_error": "0"
            }
          },
          "metadata": {},
          "execution_count": 23
        }
      ],
      "source": [
        "# Again a bit of clean-up, let's remove the bottom/top 1% of patients based on the number of\n",
        "# documents they have.\n",
        "docs_per_pt = noteevents['subject_id'].value_counts()\n",
        "docs_per_pt_vals = docs_per_pt.values\n",
        "docs_per_pt_vals.sort()\n",
        "\n",
        "rm_size = int(len(docs_per_pt_vals) / 100) * 1\n",
        "min_ln = max(docs_per_pt_vals[0:rm_size])\n",
        "max_ln = min(docs_per_pt_vals[-rm_size:])\n",
        "\n",
        "keep_subject_id = set([k for k, v in docs_per_pt.items() if v > min_ln and v < max_ln])\n",
        "noteevents = noteevents[[True if subject_id in keep_subject_id else False\n",
        "                  for subject_id in noteevents['subject_id'].values]]\n",
        "noteevents.head()"
      ]
    },
    {
      "cell_type": "code",
      "execution_count": 24,
      "metadata": {
        "colab": {
          "base_uri": "https://localhost:8080/"
        },
        "id": "O5ZA-Ay1adQ1",
        "outputId": "64746dcb-69c5-4863-803a-9a91e0749a40"
      },
      "outputs": [
        {
          "output_type": "stream",
          "name": "stdout",
          "text": [
            "Length after cleaning : 1305\n",
            "Length of the original: 2130\n"
          ]
        }
      ],
      "source": [
        "print(f\"Length after cleaning : {len(noteevents)}\")\n",
        "print(f\"Length of the original: {len(noteevents_original)}\")"
      ]
    },
    {
      "cell_type": "code",
      "execution_count": 25,
      "metadata": {
        "colab": {
          "base_uri": "https://localhost:8080/",
          "height": 741
        },
        "id": "BZDQcG_OadQ4",
        "outputId": "5cb63be2-9233-4cd3-d863-16abc1ffc9f0"
      },
      "outputs": [
        {
          "output_type": "stream",
          "name": "stderr",
          "text": [
            "<ipython-input-25-40afa5a18b7d>:1: UserWarning: \n",
            "\n",
            "`distplot` is a deprecated function and will be removed in seaborn v0.14.0.\n",
            "\n",
            "Please adapt your code to use either `displot` (a figure-level function with\n",
            "similar flexibility) or `histplot` (an axes-level function for histograms).\n",
            "\n",
            "For a guide to updating your code to use the new functions, please see\n",
            "https://gist.github.com/mwaskom/de44147ed2974457ad6372750bbe5751\n",
            "\n",
            "  sns.distplot(noteevents['subject_id'].value_counts().values, kde=False, axlabel='Documents per patient')\n"
          ]
        },
        {
          "output_type": "display_data",
          "data": {
            "text/plain": [
              "<Figure size 1000x600 with 1 Axes>"
            ],
            "image/png": "[encoded data removed]"
          },
          "metadata": {}
        }
      ],
      "source": [
        "sns.distplot(noteevents['subject_id'].value_counts().values, kde=False, axlabel='Documents per patient')\n",
        "plt.show()"
      ]
    },
    {
      "cell_type": "markdown",
      "metadata": {
        "id": "r7jGwJEmadQ6"
      },
      "source": [
        "### There are different sources for the documesnt, we'll also plot that..."
      ]
    },
    {
      "cell_type": "code",
      "execution_count": 26,
      "metadata": {
        "colab": {
          "base_uri": "https://localhost:8080/",
          "height": 601
        },
        "id": "aKZCkIG8adQ6",
        "outputId": "641082b6-acfb-42c5-9ad0-222e197f4cb8"
      },
      "outputs": [
        {
          "output_type": "stream",
          "name": "stderr",
          "text": [
            "<ipython-input-26-991c310eae9e>:2: UserWarning: set_ticklabels() should only be used with a fixed number of ticks, i.e. after set_ticks() or using a FixedLocator.\n",
            "  _ = plot.set_xticklabels(plot.get_xticklabels(), rotation=45, horizontalalignment='right')\n"
          ]
        },
        {
          "output_type": "display_data",
          "data": {
            "text/plain": [
              "<Figure size 1000x600 with 1 Axes>"
            ],
            "image/png": "[encoded data removed]"
          },
          "metadata": {}
        }
      ],
      "source": [
        "plot = sns.countplot(noteevents['category'])\n",
        "_ = plot.set_xticklabels(plot.get_xticklabels(), rotation=45, horizontalalignment='right')\n",
        "plt.show()"
      ]
    },
    {
      "cell_type": "markdown",
      "metadata": {
        "id": "L13jbTI0adQ8"
      },
      "source": [
        "## Age based statistics"
      ]
    },
    {
      "cell_type": "code",
      "execution_count": 27,
      "metadata": {
        "id": "uJ2_DrKwadQ8"
      },
      "outputs": [],
      "source": [
        "# Convert to pandas dates\n",
        "noteevents['chartdate'] = pd.to_datetime(noteevents['chartdate'])\n",
        "patients['dob'] = pd.to_datetime(patients['dob'])\n",
        "\n",
        "# Add a year column\n",
        "noteevents['create_year'] = pd.DatetimeIndex(noteevents['chartdate']).year\n",
        "patients['dob_year'] = pd.DatetimeIndex(patients['dob']).year"
      ]
    },
    {
      "cell_type": "code",
      "execution_count": 28,
      "metadata": {
        "id": "FPEufVo5adQ-"
      },
      "outputs": [],
      "source": [
        "# Joint noteevents with patients\n",
        "pt_notes = noteevents.merge(patients, on='subject_id', how='left')"
      ]
    },
    {
      "cell_type": "code",
      "execution_count": 29,
      "metadata": {
        "id": "n_nY8bt8adRA"
      },
      "outputs": [],
      "source": [
        "pt_notes['age_year'] = pt_notes['create_year'] - pt_notes['dob_year']"
      ]
    },
    {
      "cell_type": "code",
      "execution_count": 30,
      "metadata": {
        "id": "GI6asE74adRB"
      },
      "outputs": [],
      "source": [
        "# Remove patients older than 89 and younger than 16\n",
        "pt_notes = pt_notes[pt_notes['age_year'] >= 16]\n",
        "pt_notes = pt_notes[pt_notes['age_year'] <= 89]"
      ]
    },
    {
      "cell_type": "code",
      "execution_count": 32,
      "metadata": {
        "colab": {
          "base_uri": "https://localhost:8080/"
        },
        "id": "cV0omycladRD",
        "outputId": "07bea0f0-a7c5-4897-8ce5-f96f41d33d95"
      },
      "outputs": [
        {
          "output_type": "stream",
          "name": "stdout",
          "text": [
            "Number of patients with only one doc: 32\n",
            "After removal: 0\n"
          ]
        }
      ],
      "source": [
        "# It is possible that the cleaning above created some patients with only one document\n",
        "print(\"Number of patients with only one doc: \" + str(sum(pt_notes['subject_id'].value_counts().values == 1)))\n",
        "\n",
        "# Remove it there are any\n",
        "remove_subject = set([k for k, v in pt_notes['subject_id'].value_counts().items() if v == 1])\n",
        "pt_notes = pt_notes[~pt_notes.subject_id.isin(remove_subject)]\n",
        "print(\"After removal: \" + str(sum(pt_notes['subject_id'].value_counts().values == 1)))"
      ]
    },
    {
      "cell_type": "code",
      "execution_count": 33,
      "metadata": {
        "colab": {
          "base_uri": "https://localhost:8080/",
          "height": 1000
        },
        "id": "321itVORadRF",
        "outputId": "3d1c8d6c-71a5-4359-e5cf-95537f069964"
      },
      "outputs": [
        {
          "output_type": "execute_result",
          "data": {
            "text/plain": [
              "category\n",
              "Consult - History and Phy.       322\n",
              "General Medicine                 114\n",
              "SOAP / Chart / Progress Notes     95\n",
              "Cardiovascular / Pulmonary        63\n",
              "Gastroenterology                  51\n",
              "Neurology                         48\n",
              "Orthopedic                        48\n",
              "Radiology                         34\n",
              "Emergency Room Reports            32\n",
              "Physical Medicine - Rehab         28\n",
              "Urology                           27\n",
              "Hematology - Oncology             24\n",
              "Obstetrics / Gynecology           23\n",
              "Psychiatry / Psychology           18\n",
              "Nephrology                        18\n",
              "Surgery                           17\n",
              "Discharge Summary                 17\n",
              "Office Notes                      16\n",
              "Dermatology                       13\n",
              "Allergy / Immunology              11\n",
              "Endocrinology                     11\n",
              "ENT - Otolaryngology              11\n",
              "Rheumatology                      10\n",
              "Speech - Language                  8\n",
              "Diets and Nutritions               7\n",
              "Letters                            7\n",
              "Chiropractic                       6\n",
              "Sleep Medicine                     4\n",
              "Podiatry                           4\n",
              "Ophthalmology                      4\n",
              "Bariatrics                         3\n",
              "Neurosurgery                       2\n",
              "IME-QME-Work Comp etc.             2\n",
              "Cosmetic / Plastic Surgery         2\n",
              "Dentistry                          1\n",
              "Name: count, dtype: int64"
            ],
            "text/html": [
              "<div>\n",
              "<style scoped>\n",
              "    .dataframe tbody tr th:only-of-type {\n",
              "        vertical-align: middle;\n",
              "    }\n",
              "\n",
              "    .dataframe tbody tr th {\n",
              "        vertical-align: top;\n",
              "    }\n",
              "\n",
              "    .dataframe thead th {\n",
              "        text-align: right;\n",
              "    }\n",
              "</style>\n",
              "<table border=\"1\" class=\"dataframe\">\n",
              "  <thead>\n",
              "    <tr style=\"text-align: right;\">\n",
              "      <th></th>\n",
              "      <th>count</th>\n",
              "    </tr>\n",
              "    <tr>\n",
              "      <th>category</th>\n",
              "      <th></th>\n",
              "    </tr>\n",
              "  </thead>\n",
              "  <tbody>\n",
              "    <tr>\n",
              "      <th>Consult - History and Phy.</th>\n",
              "      <td>322</td>\n",
              "    </tr>\n",
              "    <tr>\n",
              "      <th>General Medicine</th>\n",
              "      <td>114</td>\n",
              "    </tr>\n",
              "    <tr>\n",
              "      <th>SOAP / Chart / Progress Notes</th>\n",
              "      <td>95</td>\n",
              "    </tr>\n",
              "    <tr>\n",
              "      <th>Cardiovascular / Pulmonary</th>\n",
              "      <td>63</td>\n",
              "    </tr>\n",
              "    <tr>\n",
              "      <th>Gastroenterology</th>\n",
              "      <td>51</td>\n",
              "    </tr>\n",
              "    <tr>\n",
              "      <th>Neurology</th>\n",
              "      <td>48</td>\n",
              "    </tr>\n",
              "    <tr>\n",
              "      <th>Orthopedic</th>\n",
              "      <td>48</td>\n",
              "    </tr>\n",
              "    <tr>\n",
              "      <th>Radiology</th>\n",
              "      <td>34</td>\n",
              "    </tr>\n",
              "    <tr>\n",
              "      <th>Emergency Room Reports</th>\n",
              "      <td>32</td>\n",
              "    </tr>\n",
              "    <tr>\n",
              "      <th>Physical Medicine - Rehab</th>\n",
              "      <td>28</td>\n",
              "    </tr>\n",
              "    <tr>\n",
              "      <th>Urology</th>\n",
              "      <td>27</td>\n",
              "    </tr>\n",
              "    <tr>\n",
              "      <th>Hematology - Oncology</th>\n",
              "      <td>24</td>\n",
              "    </tr>\n",
              "    <tr>\n",
              "      <th>Obstetrics / Gynecology</th>\n",
              "      <td>23</td>\n",
              "    </tr>\n",
              "    <tr>\n",
              "      <th>Psychiatry / Psychology</th>\n",
              "      <td>18</td>\n",
              "    </tr>\n",
              "    <tr>\n",
              "      <th>Nephrology</th>\n",
              "      <td>18</td>\n",
              "    </tr>\n",
              "    <tr>\n",
              "      <th>Surgery</th>\n",
              "      <td>17</td>\n",
              "    </tr>\n",
              "    <tr>\n",
              "      <th>Discharge Summary</th>\n",
              "      <td>17</td>\n",
              "    </tr>\n",
              "    <tr>\n",
              "      <th>Office Notes</th>\n",
              "      <td>16</td>\n",
              "    </tr>\n",
              "    <tr>\n",
              "      <th>Dermatology</th>\n",
              "      <td>13</td>\n",
              "    </tr>\n",
              "    <tr>\n",
              "      <th>Allergy / Immunology</th>\n",
              "      <td>11</td>\n",
              "    </tr>\n",
              "    <tr>\n",
              "      <th>Endocrinology</th>\n",
              "      <td>11</td>\n",
              "    </tr>\n",
              "    <tr>\n",
              "      <th>ENT - Otolaryngology</th>\n",
              "      <td>11</td>\n",
              "    </tr>\n",
              "    <tr>\n",
              "      <th>Rheumatology</th>\n",
              "      <td>10</td>\n",
              "    </tr>\n",
              "    <tr>\n",
              "      <th>Speech - Language</th>\n",
              "      <td>8</td>\n",
              "    </tr>\n",
              "    <tr>\n",
              "      <th>Diets and Nutritions</th>\n",
              "      <td>7</td>\n",
              "    </tr>\n",
              "    <tr>\n",
              "      <th>Letters</th>\n",
              "      <td>7</td>\n",
              "    </tr>\n",
              "    <tr>\n",
              "      <th>Chiropractic</th>\n",
              "      <td>6</td>\n",
              "    </tr>\n",
              "    <tr>\n",
              "      <th>Sleep Medicine</th>\n",
              "      <td>4</td>\n",
              "    </tr>\n",
              "    <tr>\n",
              "      <th>Podiatry</th>\n",
              "      <td>4</td>\n",
              "    </tr>\n",
              "    <tr>\n",
              "      <th>Ophthalmology</th>\n",
              "      <td>4</td>\n",
              "    </tr>\n",
              "    <tr>\n",
              "      <th>Bariatrics</th>\n",
              "      <td>3</td>\n",
              "    </tr>\n",
              "    <tr>\n",
              "      <th>Neurosurgery</th>\n",
              "      <td>2</td>\n",
              "    </tr>\n",
              "    <tr>\n",
              "      <th>IME-QME-Work Comp etc.</th>\n",
              "      <td>2</td>\n",
              "    </tr>\n",
              "    <tr>\n",
              "      <th>Cosmetic / Plastic Surgery</th>\n",
              "      <td>2</td>\n",
              "    </tr>\n",
              "    <tr>\n",
              "      <th>Dentistry</th>\n",
              "      <td>1</td>\n",
              "    </tr>\n",
              "  </tbody>\n",
              "</table>\n",
              "</div><br><label><b>dtype:</b> int64</label>"
            ]
          },
          "metadata": {},
          "execution_count": 33
        }
      ],
      "source": [
        "pt_notes.category.value_counts()"
      ]
    },
    {
      "cell_type": "code",
      "execution_count": 34,
      "metadata": {
        "id": "3Yol0bDUadRH"
      },
      "outputs": [],
      "source": [
        "# We'll do the following to make sure patients do not have documents that span\n",
        "# over multiple years, meaning their age would change.\n",
        "dif_pt = {}\n",
        "for ind, row in pt_notes.iterrows():\n",
        "    sid = row['subject_id']\n",
        "    if sid in dif_pt:\n",
        "        dif_pt[sid].append(row['age_year'])\n",
        "    else:\n",
        "        dif_pt[sid] = [row['age_year']]\n",
        "\n",
        "ehr_length = []\n",
        "median_age = []\n",
        "for v in dif_pt.values():\n",
        "    mx = max(v)\n",
        "    mi = min(v)\n",
        "    median_age.append(np.median(v))\n",
        "    ehr_length.append(mx - mi)"
      ]
    },
    {
      "cell_type": "code",
      "execution_count": 35,
      "metadata": {
        "colab": {
          "base_uri": "https://localhost:8080/",
          "height": 741
        },
        "id": "wPEDOt48adRI",
        "outputId": "3409f520-2d14-43f2-ab84-03e468d66a21"
      },
      "outputs": [
        {
          "output_type": "stream",
          "name": "stderr",
          "text": [
            "<ipython-input-35-dc0947cd8a43>:2: UserWarning: \n",
            "\n",
            "`distplot` is a deprecated function and will be removed in seaborn v0.14.0.\n",
            "\n",
            "Please adapt your code to use either `displot` (a figure-level function with\n",
            "similar flexibility) or `histplot` (an axes-level function for histograms).\n",
            "\n",
            "For a guide to updating your code to use the new functions, please see\n",
            "https://gist.github.com/mwaskom/de44147ed2974457ad6372750bbe5751\n",
            "\n",
            "  sns.distplot(ehr_length, kde=False, axlabel='EHR Length in Years')\n"
          ]
        },
        {
          "output_type": "display_data",
          "data": {
            "text/plain": [
              "<Figure size 1000x600 with 1 Axes>"
            ],
            "image/png": "[encoded data removed]"
          },
          "metadata": {}
        }
      ],
      "source": [
        "# We show this mainly to be sure that most patients have an EHR that spans less than 1 year\n",
        "sns.distplot(ehr_length, kde=False, axlabel='EHR Length in Years')\n",
        "plt.show()"
      ]
    },
    {
      "cell_type": "code",
      "execution_count": 36,
      "metadata": {
        "colab": {
          "base_uri": "https://localhost:8080/",
          "height": 741
        },
        "id": "n5QytU90adRK",
        "outputId": "c2d3db55-5d0d-4652-aeb4-db574dde578c"
      },
      "outputs": [
        {
          "output_type": "stream",
          "name": "stderr",
          "text": [
            "<ipython-input-36-27a8a8fd5519>:1: UserWarning: \n",
            "\n",
            "`distplot` is a deprecated function and will be removed in seaborn v0.14.0.\n",
            "\n",
            "Please adapt your code to use either `displot` (a figure-level function with\n",
            "similar flexibility) or `histplot` (an axes-level function for histograms).\n",
            "\n",
            "For a guide to updating your code to use the new functions, please see\n",
            "https://gist.github.com/mwaskom/de44147ed2974457ad6372750bbe5751\n",
            "\n",
            "  sns.distplot([np.round(x) for x in median_age], kde=False, bins=74, axlabel='Patient Age')\n"
          ]
        },
        {
          "output_type": "display_data",
          "data": {
            "text/plain": [
              "<Figure size 1000x600 with 1 Axes>"
            ],
            "image/png": "[encoded data removed]"
          },
          "metadata": {}
        }
      ],
      "source": [
        "sns.distplot([np.round(x) for x in median_age], kde=False, bins=74, axlabel='Patient Age')\n",
        "plt.show()"
      ]
    },
    {
      "cell_type": "code",
      "execution_count": 37,
      "metadata": {
        "colab": {
          "base_uri": "https://localhost:8080/"
        },
        "id": "sak8VW3UadRL",
        "outputId": "eb02b6a4-e73d-4ef6-99a5-293db6ff1ebd"
      },
      "outputs": [
        {
          "output_type": "stream",
          "name": "stdout",
          "text": [
            "183\n",
            "288\n"
          ]
        }
      ],
      "source": [
        "# Number of patients after/before cleaning\n",
        "print(len(pt_notes['subject_id'].unique()))\n",
        "print(len(noteevents_original['subject_id'].unique()))"
      ]
    },
    {
      "cell_type": "code",
      "execution_count": 38,
      "metadata": {
        "colab": {
          "base_uri": "https://localhost:8080/"
        },
        "id": "EnDpGSi2adRN",
        "outputId": "9bf12743-e99a-441a-f8c3-f18ca8987af5"
      },
      "outputs": [
        {
          "output_type": "stream",
          "name": "stdout",
          "text": [
            "3261.0399636693915\n",
            "3322.557276995305\n"
          ]
        }
      ],
      "source": [
        "# Document length after/before cleaning\n",
        "print(np.average([len(str(x)) for x in pt_notes['text']]))\n",
        "print(np.average([len(str(x)) for x in noteevents_original['text']]))"
      ]
    },
    {
      "cell_type": "code",
      "execution_count": 39,
      "metadata": {
        "colab": {
          "base_uri": "https://localhost:8080/"
        },
        "id": "MEs12MNpadRR",
        "outputId": "56408fdb-c55b-4330-a669-d1c1e61fb182"
      },
      "outputs": [
        {
          "output_type": "stream",
          "name": "stdout",
          "text": [
            "1101\n",
            "2130\n"
          ]
        }
      ],
      "source": [
        "# Number of documents after/before cleaning\n",
        "print(len(pt_notes))\n",
        "print(len(noteevents_original))"
      ]
    },
    {
      "cell_type": "code",
      "execution_count": 40,
      "metadata": {
        "colab": {
          "base_uri": "https://localhost:8080/"
        },
        "id": "1bZNZEEgadRT",
        "outputId": "dc1fd3db-a1dc-47ab-e951-b48e679dd0fb"
      },
      "outputs": [
        {
          "output_type": "stream",
          "name": "stdout",
          "text": [
            "2\n",
            "1\n"
          ]
        }
      ],
      "source": [
        "# Min number of documents per patient after/before cleaning\n",
        "print(min(pt_notes['subject_id'].value_counts().values))\n",
        "print(min(noteevents_original['subject_id'].value_counts().values))"
      ]
    },
    {
      "cell_type": "code",
      "execution_count": 41,
      "metadata": {
        "colab": {
          "base_uri": "https://localhost:8080/"
        },
        "id": "jVksBr5oadRU",
        "outputId": "a6a4a72c-b0fc-4f2b-c6e0-805a9fe522ca"
      },
      "outputs": [
        {
          "output_type": "stream",
          "name": "stdout",
          "text": [
            "13\n",
            "29\n"
          ]
        }
      ],
      "source": [
        "# Max number of documents per patient after/before cleaning\n",
        "print(max(pt_notes['subject_id'].value_counts().values))\n",
        "print(max(noteevents_original['subject_id'].value_counts().values))"
      ]
    },
    {
      "cell_type": "code",
      "execution_count": 42,
      "metadata": {
        "id": "aZfJb7_NadRW"
      },
      "outputs": [],
      "source": [
        "# Save the new DF\n",
        "pt_notes.to_csv(DATA_DIR + \"pt_notes.csv\", index=False)"
      ]
    },
    {
      "cell_type": "markdown",
      "metadata": {
        "id": "BXnxAuZX2ejp"
      },
      "source": [
        "End of Dataset Analysis and Preparation tutorial"
      ]
    }
  ],
  "metadata": {
    "colab": {
      "name": "MedCAT Tutorial | Part 2 - Dataset Analysis and Preparation.ipynb",
      "provenance": []
    },
    "kernelspec": {
      "display_name": "Python 3",
      "language": "python",
      "name": "python3"
    },
    "language_info": {
      "codemirror_mode": {
        "name": "ipython",
        "version": 3
      },
      "file_extension": ".py",
      "mimetype": "text/x-python",
      "name": "python",
      "nbconvert_exporter": "python",
      "pygments_lexer": "ipython3",
      "version": "3.7.0"
    }
  },
  "nbformat": 4,
  "nbformat_minor": 0
}